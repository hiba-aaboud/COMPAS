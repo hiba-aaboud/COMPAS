{
  "cells": [
    {
      "cell_type": "markdown",
      "metadata": {
        "id": "8l1kG3TjdYqZ"
      },
      "source": [
        "\n",
        "#Maroua Hibatollah AABOUD\n",
        "\n",
        "\n",
        "#A first analysis of the COMPAS dataset\n",
        "## Dataset description\n",
        "\n",
        "\n",
        "We will examine the ProPublica COMPAS dataset, which contains the records of all criminal defendants who were subject to COMPAS screening in Broward County, Florida, during 2013 and 2014. For each defendant, various information fields (‘features’) were gathered by ProPublica. Broadly, these fields are related to the defendant’s demographic information (e.g., gender and race), criminal history (e.g., the number of prior offenses) and administrative information about the case (e.g., the case number, arrest date). Finally, the dataset contains the risk of recidivism predicted by the COMPAS tool, and also information about whether the defendant did actually recidivate or not (ground truth label for us).\n",
        "\n",
        "The COMPAS score uses answers to 137 questions to assign a risk score to defendants -- essentially an estimate of the likelihood of re-arrest. The actual output is two-fold: a risk rating of 1-10 and a \"low\", \"medium\", or \"high\" risk label.\n",
        "\n",
        "Link to dataset: https://github.com/propublica/compas-analysis\n",
        "\n",
        "The file we will analyze is: compas-scores-two-years.csv\n",
        "\n",
        "Link to the ProPublica article:\n",
        "\n",
        "https://www.propublica.org/article/machine-bias-risk-assessments-in-criminal-sentencing\n",
        "\n",
        "Some of the code below is adapted from the Propublica github repository above, and from\n",
        "\n",
        "https://investigate.ai/propublica-criminal-sentencing/week-5-1-machine-bias-class/"
      ]
    },
    {
      "cell_type": "markdown",
      "metadata": {
        "id": "9d3L03BndYqg"
      },
      "source": [
        "## Download the data\n",
        "\n",
        "We first need to load the data from the ProPublica repo:\n",
        "https://github.com/propublica/compas-analysis"
      ]
    },
    {
      "cell_type": "code",
      "execution_count": 76,
      "metadata": {
        "colab": {
          "base_uri": "https://localhost:8080/"
        },
        "id": "dX0kqxnXdYqh",
        "outputId": "bf99240c-9ce9-41fc-a4a5-386884c9cfaa"
      },
      "outputs": [
        {
          "name": "stdout",
          "output_type": "stream",
          "text": [
            "Looking for file '%s' in the current directory... compas-scores-two-years.csv\n",
            "File found in current directory..\n"
          ]
        }
      ],
      "source": [
        "%matplotlib inline\n",
        "\n",
        "import urllib.request\n",
        "import os,sys\n",
        "import numpy as np\n",
        "import pandas as pd\n",
        "from sklearn import feature_extraction\n",
        "from sklearn import preprocessing\n",
        "from random import seed, shuffle\n",
        "\n",
        "SEED = 1234\n",
        "seed(SEED)\n",
        "np.random.seed(SEED)\n",
        "\n",
        "def check_data_file(fname):\n",
        "    files = os.listdir(\".\") # get the current directory listing\n",
        "    print(\"Looking for file '%s' in the current directory...\",fname)\n",
        "\n",
        "    if fname not in files:\n",
        "        print(\"'%s' not found! Downloading from GitHub...\",fname)\n",
        "        addr = \"https://raw.githubusercontent.com/propublica/compas-analysis/master/compas-scores-two-years.csv\"\n",
        "        response = urllib.request.urlopen(addr)\n",
        "        data = response.read()\n",
        "        fileOut = open(fname, \"wb\")\n",
        "        fileOut.write(data)\n",
        "        fileOut.close()\n",
        "        print(\"'%s' download and saved locally..\",fname)\n",
        "    else:\n",
        "        print(\"File found in current directory..\")\n",
        "\n",
        "COMPAS_INPUT_FILE = \"compas-scores-two-years.csv\"\n",
        "check_data_file(COMPAS_INPUT_FILE)"
      ]
    },
    {
      "cell_type": "markdown",
      "metadata": {
        "id": "jwj0jcKZdYqj"
      },
      "source": [
        "## Loading and cleaning data\n",
        "\n",
        "The following code load the data using pandas and cleans it according to ProPublica's cleaning:\n",
        "\n",
        "\"\n",
        "If the charge date of a defendants Compas scored crime was not within 30 days from when the person was arrested, we assume that because of data quality reasons, that we do not have the right offense.\n",
        "\n",
        "We coded the recidivist flag -- is_recid -- to be -1 if we could not find a compas case at all.\n",
        "\n",
        "In a similar vein, ordinary traffic offenses -- those with a c_charge_degree of 'O' -- will not result in Jail time are removed\n",
        "\n",
        "We filtered the underlying data from Broward county to include only those rows representing people who had either recidivated in two years, or had at least two years outside of a correctional facility.\"\n",
        "\"\n",
        "\n",
        "Finally, it converts the data to a dictionary with np arrays, which will be useful later"
      ]
    },
    {
      "cell_type": "code",
      "execution_count": 77,
      "metadata": {
        "colab": {
          "base_uri": "https://localhost:8080/",
          "height": 617
        },
        "id": "RpAmqFRTdYqk",
        "outputId": "ddb3153c-cd22-4c29-fa60-4dd941b45da6"
      },
      "outputs": [
        {
          "data": {
            "application/vnd.google.colaboratory.intrinsic+json": {
              "type": "dataframe",
              "variable_name": "df"
            },
            "text/html": [
              "\n",
              "  <div id=\"df-083db944-9db4-4123-859e-f3b54a11f4ec\" class=\"colab-df-container\">\n",
              "    <div>\n",
              "<style scoped>\n",
              "    .dataframe tbody tr th:only-of-type {\n",
              "        vertical-align: middle;\n",
              "    }\n",
              "\n",
              "    .dataframe tbody tr th {\n",
              "        vertical-align: top;\n",
              "    }\n",
              "\n",
              "    .dataframe thead th {\n",
              "        text-align: right;\n",
              "    }\n",
              "</style>\n",
              "<table border=\"1\" class=\"dataframe\">\n",
              "  <thead>\n",
              "    <tr style=\"text-align: right;\">\n",
              "      <th></th>\n",
              "      <th>id</th>\n",
              "      <th>name</th>\n",
              "      <th>first</th>\n",
              "      <th>last</th>\n",
              "      <th>compas_screening_date</th>\n",
              "      <th>sex</th>\n",
              "      <th>dob</th>\n",
              "      <th>age</th>\n",
              "      <th>age_cat</th>\n",
              "      <th>race</th>\n",
              "      <th>...</th>\n",
              "      <th>v_decile_score</th>\n",
              "      <th>v_score_text</th>\n",
              "      <th>v_screening_date</th>\n",
              "      <th>in_custody</th>\n",
              "      <th>out_custody</th>\n",
              "      <th>priors_count.1</th>\n",
              "      <th>start</th>\n",
              "      <th>end</th>\n",
              "      <th>event</th>\n",
              "      <th>two_year_recid</th>\n",
              "    </tr>\n",
              "  </thead>\n",
              "  <tbody>\n",
              "    <tr>\n",
              "      <th>0</th>\n",
              "      <td>1</td>\n",
              "      <td>miguel hernandez</td>\n",
              "      <td>miguel</td>\n",
              "      <td>hernandez</td>\n",
              "      <td>2013-08-14</td>\n",
              "      <td>Male</td>\n",
              "      <td>1947-04-18</td>\n",
              "      <td>69</td>\n",
              "      <td>Greater than 45</td>\n",
              "      <td>Other</td>\n",
              "      <td>...</td>\n",
              "      <td>1</td>\n",
              "      <td>Low</td>\n",
              "      <td>2013-08-14</td>\n",
              "      <td>2014-07-07</td>\n",
              "      <td>2014-07-14</td>\n",
              "      <td>0</td>\n",
              "      <td>0</td>\n",
              "      <td>327</td>\n",
              "      <td>0</td>\n",
              "      <td>0</td>\n",
              "    </tr>\n",
              "    <tr>\n",
              "      <th>1</th>\n",
              "      <td>3</td>\n",
              "      <td>kevon dixon</td>\n",
              "      <td>kevon</td>\n",
              "      <td>dixon</td>\n",
              "      <td>2013-01-27</td>\n",
              "      <td>Male</td>\n",
              "      <td>1982-01-22</td>\n",
              "      <td>34</td>\n",
              "      <td>25 - 45</td>\n",
              "      <td>African-American</td>\n",
              "      <td>...</td>\n",
              "      <td>1</td>\n",
              "      <td>Low</td>\n",
              "      <td>2013-01-27</td>\n",
              "      <td>2013-01-26</td>\n",
              "      <td>2013-02-05</td>\n",
              "      <td>0</td>\n",
              "      <td>9</td>\n",
              "      <td>159</td>\n",
              "      <td>1</td>\n",
              "      <td>1</td>\n",
              "    </tr>\n",
              "    <tr>\n",
              "      <th>2</th>\n",
              "      <td>4</td>\n",
              "      <td>ed philo</td>\n",
              "      <td>ed</td>\n",
              "      <td>philo</td>\n",
              "      <td>2013-04-14</td>\n",
              "      <td>Male</td>\n",
              "      <td>1991-05-14</td>\n",
              "      <td>24</td>\n",
              "      <td>Less than 25</td>\n",
              "      <td>African-American</td>\n",
              "      <td>...</td>\n",
              "      <td>3</td>\n",
              "      <td>Low</td>\n",
              "      <td>2013-04-14</td>\n",
              "      <td>2013-06-16</td>\n",
              "      <td>2013-06-16</td>\n",
              "      <td>4</td>\n",
              "      <td>0</td>\n",
              "      <td>63</td>\n",
              "      <td>0</td>\n",
              "      <td>1</td>\n",
              "    </tr>\n",
              "    <tr>\n",
              "      <th>3</th>\n",
              "      <td>7</td>\n",
              "      <td>marsha miles</td>\n",
              "      <td>marsha</td>\n",
              "      <td>miles</td>\n",
              "      <td>2013-11-30</td>\n",
              "      <td>Male</td>\n",
              "      <td>1971-08-22</td>\n",
              "      <td>44</td>\n",
              "      <td>25 - 45</td>\n",
              "      <td>Other</td>\n",
              "      <td>...</td>\n",
              "      <td>1</td>\n",
              "      <td>Low</td>\n",
              "      <td>2013-11-30</td>\n",
              "      <td>2013-11-30</td>\n",
              "      <td>2013-12-01</td>\n",
              "      <td>0</td>\n",
              "      <td>1</td>\n",
              "      <td>853</td>\n",
              "      <td>0</td>\n",
              "      <td>0</td>\n",
              "    </tr>\n",
              "    <tr>\n",
              "      <th>4</th>\n",
              "      <td>8</td>\n",
              "      <td>edward riddle</td>\n",
              "      <td>edward</td>\n",
              "      <td>riddle</td>\n",
              "      <td>2014-02-19</td>\n",
              "      <td>Male</td>\n",
              "      <td>1974-07-23</td>\n",
              "      <td>41</td>\n",
              "      <td>25 - 45</td>\n",
              "      <td>Caucasian</td>\n",
              "      <td>...</td>\n",
              "      <td>2</td>\n",
              "      <td>Low</td>\n",
              "      <td>2014-02-19</td>\n",
              "      <td>2014-03-31</td>\n",
              "      <td>2014-04-18</td>\n",
              "      <td>14</td>\n",
              "      <td>5</td>\n",
              "      <td>40</td>\n",
              "      <td>1</td>\n",
              "      <td>1</td>\n",
              "    </tr>\n",
              "    <tr>\n",
              "      <th>...</th>\n",
              "      <td>...</td>\n",
              "      <td>...</td>\n",
              "      <td>...</td>\n",
              "      <td>...</td>\n",
              "      <td>...</td>\n",
              "      <td>...</td>\n",
              "      <td>...</td>\n",
              "      <td>...</td>\n",
              "      <td>...</td>\n",
              "      <td>...</td>\n",
              "      <td>...</td>\n",
              "      <td>...</td>\n",
              "      <td>...</td>\n",
              "      <td>...</td>\n",
              "      <td>...</td>\n",
              "      <td>...</td>\n",
              "      <td>...</td>\n",
              "      <td>...</td>\n",
              "      <td>...</td>\n",
              "      <td>...</td>\n",
              "      <td>...</td>\n",
              "    </tr>\n",
              "    <tr>\n",
              "      <th>6167</th>\n",
              "      <td>10996</td>\n",
              "      <td>steven butler</td>\n",
              "      <td>steven</td>\n",
              "      <td>butler</td>\n",
              "      <td>2013-11-23</td>\n",
              "      <td>Male</td>\n",
              "      <td>1992-07-17</td>\n",
              "      <td>23</td>\n",
              "      <td>Less than 25</td>\n",
              "      <td>African-American</td>\n",
              "      <td>...</td>\n",
              "      <td>5</td>\n",
              "      <td>Medium</td>\n",
              "      <td>2013-11-23</td>\n",
              "      <td>2013-11-22</td>\n",
              "      <td>2013-11-24</td>\n",
              "      <td>0</td>\n",
              "      <td>1</td>\n",
              "      <td>860</td>\n",
              "      <td>0</td>\n",
              "      <td>0</td>\n",
              "    </tr>\n",
              "    <tr>\n",
              "      <th>6168</th>\n",
              "      <td>10997</td>\n",
              "      <td>malcolm simmons</td>\n",
              "      <td>malcolm</td>\n",
              "      <td>simmons</td>\n",
              "      <td>2014-02-01</td>\n",
              "      <td>Male</td>\n",
              "      <td>1993-03-25</td>\n",
              "      <td>23</td>\n",
              "      <td>Less than 25</td>\n",
              "      <td>African-American</td>\n",
              "      <td>...</td>\n",
              "      <td>5</td>\n",
              "      <td>Medium</td>\n",
              "      <td>2014-02-01</td>\n",
              "      <td>2014-01-31</td>\n",
              "      <td>2014-02-02</td>\n",
              "      <td>0</td>\n",
              "      <td>1</td>\n",
              "      <td>790</td>\n",
              "      <td>0</td>\n",
              "      <td>0</td>\n",
              "    </tr>\n",
              "    <tr>\n",
              "      <th>6169</th>\n",
              "      <td>10999</td>\n",
              "      <td>winston gregory</td>\n",
              "      <td>winston</td>\n",
              "      <td>gregory</td>\n",
              "      <td>2014-01-14</td>\n",
              "      <td>Male</td>\n",
              "      <td>1958-10-01</td>\n",
              "      <td>57</td>\n",
              "      <td>Greater than 45</td>\n",
              "      <td>Other</td>\n",
              "      <td>...</td>\n",
              "      <td>1</td>\n",
              "      <td>Low</td>\n",
              "      <td>2014-01-14</td>\n",
              "      <td>2014-01-13</td>\n",
              "      <td>2014-01-14</td>\n",
              "      <td>0</td>\n",
              "      <td>0</td>\n",
              "      <td>808</td>\n",
              "      <td>0</td>\n",
              "      <td>0</td>\n",
              "    </tr>\n",
              "    <tr>\n",
              "      <th>6170</th>\n",
              "      <td>11000</td>\n",
              "      <td>farrah jean</td>\n",
              "      <td>farrah</td>\n",
              "      <td>jean</td>\n",
              "      <td>2014-03-09</td>\n",
              "      <td>Female</td>\n",
              "      <td>1982-11-17</td>\n",
              "      <td>33</td>\n",
              "      <td>25 - 45</td>\n",
              "      <td>African-American</td>\n",
              "      <td>...</td>\n",
              "      <td>2</td>\n",
              "      <td>Low</td>\n",
              "      <td>2014-03-09</td>\n",
              "      <td>2014-03-08</td>\n",
              "      <td>2014-03-09</td>\n",
              "      <td>3</td>\n",
              "      <td>0</td>\n",
              "      <td>754</td>\n",
              "      <td>0</td>\n",
              "      <td>0</td>\n",
              "    </tr>\n",
              "    <tr>\n",
              "      <th>6171</th>\n",
              "      <td>11001</td>\n",
              "      <td>florencia sanmartin</td>\n",
              "      <td>florencia</td>\n",
              "      <td>sanmartin</td>\n",
              "      <td>2014-06-30</td>\n",
              "      <td>Female</td>\n",
              "      <td>1992-12-18</td>\n",
              "      <td>23</td>\n",
              "      <td>Less than 25</td>\n",
              "      <td>Hispanic</td>\n",
              "      <td>...</td>\n",
              "      <td>4</td>\n",
              "      <td>Low</td>\n",
              "      <td>2014-06-30</td>\n",
              "      <td>2015-03-15</td>\n",
              "      <td>2015-03-15</td>\n",
              "      <td>2</td>\n",
              "      <td>0</td>\n",
              "      <td>258</td>\n",
              "      <td>0</td>\n",
              "      <td>1</td>\n",
              "    </tr>\n",
              "  </tbody>\n",
              "</table>\n",
              "<p>6172 rows × 53 columns</p>\n",
              "</div>\n",
              "    <div class=\"colab-df-buttons\">\n",
              "\n",
              "  <div class=\"colab-df-container\">\n",
              "    <button class=\"colab-df-convert\" onclick=\"convertToInteractive('df-083db944-9db4-4123-859e-f3b54a11f4ec')\"\n",
              "            title=\"Convert this dataframe to an interactive table.\"\n",
              "            style=\"display:none;\">\n",
              "\n",
              "  <svg xmlns=\"http://www.w3.org/2000/svg\" height=\"24px\" viewBox=\"0 -960 960 960\">\n",
              "    <path d=\"M120-120v-720h720v720H120Zm60-500h600v-160H180v160Zm220 220h160v-160H400v160Zm0 220h160v-160H400v160ZM180-400h160v-160H180v160Zm440 0h160v-160H620v160ZM180-180h160v-160H180v160Zm440 0h160v-160H620v160Z\"/>\n",
              "  </svg>\n",
              "    </button>\n",
              "\n",
              "  <style>\n",
              "    .colab-df-container {\n",
              "      display:flex;\n",
              "      gap: 12px;\n",
              "    }\n",
              "\n",
              "    .colab-df-convert {\n",
              "      background-color: #E8F0FE;\n",
              "      border: none;\n",
              "      border-radius: 50%;\n",
              "      cursor: pointer;\n",
              "      display: none;\n",
              "      fill: #1967D2;\n",
              "      height: 32px;\n",
              "      padding: 0 0 0 0;\n",
              "      width: 32px;\n",
              "    }\n",
              "\n",
              "    .colab-df-convert:hover {\n",
              "      background-color: #E2EBFA;\n",
              "      box-shadow: 0px 1px 2px rgba(60, 64, 67, 0.3), 0px 1px 3px 1px rgba(60, 64, 67, 0.15);\n",
              "      fill: #174EA6;\n",
              "    }\n",
              "\n",
              "    .colab-df-buttons div {\n",
              "      margin-bottom: 4px;\n",
              "    }\n",
              "\n",
              "    [theme=dark] .colab-df-convert {\n",
              "      background-color: #3B4455;\n",
              "      fill: #D2E3FC;\n",
              "    }\n",
              "\n",
              "    [theme=dark] .colab-df-convert:hover {\n",
              "      background-color: #434B5C;\n",
              "      box-shadow: 0px 1px 3px 1px rgba(0, 0, 0, 0.15);\n",
              "      filter: drop-shadow(0px 1px 2px rgba(0, 0, 0, 0.3));\n",
              "      fill: #FFFFFF;\n",
              "    }\n",
              "  </style>\n",
              "\n",
              "    <script>\n",
              "      const buttonEl =\n",
              "        document.querySelector('#df-083db944-9db4-4123-859e-f3b54a11f4ec button.colab-df-convert');\n",
              "      buttonEl.style.display =\n",
              "        google.colab.kernel.accessAllowed ? 'block' : 'none';\n",
              "\n",
              "      async function convertToInteractive(key) {\n",
              "        const element = document.querySelector('#df-083db944-9db4-4123-859e-f3b54a11f4ec');\n",
              "        const dataTable =\n",
              "          await google.colab.kernel.invokeFunction('convertToInteractive',\n",
              "                                                    [key], {});\n",
              "        if (!dataTable) return;\n",
              "\n",
              "        const docLinkHtml = 'Like what you see? Visit the ' +\n",
              "          '<a target=\"_blank\" href=https://colab.research.google.com/notebooks/data_table.ipynb>data table notebook</a>'\n",
              "          + ' to learn more about interactive tables.';\n",
              "        element.innerHTML = '';\n",
              "        dataTable['output_type'] = 'display_data';\n",
              "        await google.colab.output.renderOutput(dataTable, element);\n",
              "        const docLink = document.createElement('div');\n",
              "        docLink.innerHTML = docLinkHtml;\n",
              "        element.appendChild(docLink);\n",
              "      }\n",
              "    </script>\n",
              "  </div>\n",
              "\n",
              "\n",
              "<div id=\"df-c60b713e-0e87-4bc0-b8ba-aab9ccddecba\">\n",
              "  <button class=\"colab-df-quickchart\" onclick=\"quickchart('df-c60b713e-0e87-4bc0-b8ba-aab9ccddecba')\"\n",
              "            title=\"Suggest charts\"\n",
              "            style=\"display:none;\">\n",
              "\n",
              "<svg xmlns=\"http://www.w3.org/2000/svg\" height=\"24px\"viewBox=\"0 0 24 24\"\n",
              "     width=\"24px\">\n",
              "    <g>\n",
              "        <path d=\"M19 3H5c-1.1 0-2 .9-2 2v14c0 1.1.9 2 2 2h14c1.1 0 2-.9 2-2V5c0-1.1-.9-2-2-2zM9 17H7v-7h2v7zm4 0h-2V7h2v10zm4 0h-2v-4h2v4z\"/>\n",
              "    </g>\n",
              "</svg>\n",
              "  </button>\n",
              "\n",
              "<style>\n",
              "  .colab-df-quickchart {\n",
              "      --bg-color: #E8F0FE;\n",
              "      --fill-color: #1967D2;\n",
              "      --hover-bg-color: #E2EBFA;\n",
              "      --hover-fill-color: #174EA6;\n",
              "      --disabled-fill-color: #AAA;\n",
              "      --disabled-bg-color: #DDD;\n",
              "  }\n",
              "\n",
              "  [theme=dark] .colab-df-quickchart {\n",
              "      --bg-color: #3B4455;\n",
              "      --fill-color: #D2E3FC;\n",
              "      --hover-bg-color: #434B5C;\n",
              "      --hover-fill-color: #FFFFFF;\n",
              "      --disabled-bg-color: #3B4455;\n",
              "      --disabled-fill-color: #666;\n",
              "  }\n",
              "\n",
              "  .colab-df-quickchart {\n",
              "    background-color: var(--bg-color);\n",
              "    border: none;\n",
              "    border-radius: 50%;\n",
              "    cursor: pointer;\n",
              "    display: none;\n",
              "    fill: var(--fill-color);\n",
              "    height: 32px;\n",
              "    padding: 0;\n",
              "    width: 32px;\n",
              "  }\n",
              "\n",
              "  .colab-df-quickchart:hover {\n",
              "    background-color: var(--hover-bg-color);\n",
              "    box-shadow: 0 1px 2px rgba(60, 64, 67, 0.3), 0 1px 3px 1px rgba(60, 64, 67, 0.15);\n",
              "    fill: var(--button-hover-fill-color);\n",
              "  }\n",
              "\n",
              "  .colab-df-quickchart-complete:disabled,\n",
              "  .colab-df-quickchart-complete:disabled:hover {\n",
              "    background-color: var(--disabled-bg-color);\n",
              "    fill: var(--disabled-fill-color);\n",
              "    box-shadow: none;\n",
              "  }\n",
              "\n",
              "  .colab-df-spinner {\n",
              "    border: 2px solid var(--fill-color);\n",
              "    border-color: transparent;\n",
              "    border-bottom-color: var(--fill-color);\n",
              "    animation:\n",
              "      spin 1s steps(1) infinite;\n",
              "  }\n",
              "\n",
              "  @keyframes spin {\n",
              "    0% {\n",
              "      border-color: transparent;\n",
              "      border-bottom-color: var(--fill-color);\n",
              "      border-left-color: var(--fill-color);\n",
              "    }\n",
              "    20% {\n",
              "      border-color: transparent;\n",
              "      border-left-color: var(--fill-color);\n",
              "      border-top-color: var(--fill-color);\n",
              "    }\n",
              "    30% {\n",
              "      border-color: transparent;\n",
              "      border-left-color: var(--fill-color);\n",
              "      border-top-color: var(--fill-color);\n",
              "      border-right-color: var(--fill-color);\n",
              "    }\n",
              "    40% {\n",
              "      border-color: transparent;\n",
              "      border-right-color: var(--fill-color);\n",
              "      border-top-color: var(--fill-color);\n",
              "    }\n",
              "    60% {\n",
              "      border-color: transparent;\n",
              "      border-right-color: var(--fill-color);\n",
              "    }\n",
              "    80% {\n",
              "      border-color: transparent;\n",
              "      border-right-color: var(--fill-color);\n",
              "      border-bottom-color: var(--fill-color);\n",
              "    }\n",
              "    90% {\n",
              "      border-color: transparent;\n",
              "      border-bottom-color: var(--fill-color);\n",
              "    }\n",
              "  }\n",
              "</style>\n",
              "\n",
              "  <script>\n",
              "    async function quickchart(key) {\n",
              "      const quickchartButtonEl =\n",
              "        document.querySelector('#' + key + ' button');\n",
              "      quickchartButtonEl.disabled = true;  // To prevent multiple clicks.\n",
              "      quickchartButtonEl.classList.add('colab-df-spinner');\n",
              "      try {\n",
              "        const charts = await google.colab.kernel.invokeFunction(\n",
              "            'suggestCharts', [key], {});\n",
              "      } catch (error) {\n",
              "        console.error('Error during call to suggestCharts:', error);\n",
              "      }\n",
              "      quickchartButtonEl.classList.remove('colab-df-spinner');\n",
              "      quickchartButtonEl.classList.add('colab-df-quickchart-complete');\n",
              "    }\n",
              "    (() => {\n",
              "      let quickchartButtonEl =\n",
              "        document.querySelector('#df-c60b713e-0e87-4bc0-b8ba-aab9ccddecba button');\n",
              "      quickchartButtonEl.style.display =\n",
              "        google.colab.kernel.accessAllowed ? 'block' : 'none';\n",
              "    })();\n",
              "  </script>\n",
              "</div>\n",
              "    </div>\n",
              "  </div>\n"
            ],
            "text/plain": [
              "         id                 name      first       last compas_screening_date  \\\n",
              "0         1     miguel hernandez     miguel  hernandez            2013-08-14   \n",
              "1         3          kevon dixon      kevon      dixon            2013-01-27   \n",
              "2         4             ed philo         ed      philo            2013-04-14   \n",
              "3         7         marsha miles     marsha      miles            2013-11-30   \n",
              "4         8        edward riddle     edward     riddle            2014-02-19   \n",
              "...     ...                  ...        ...        ...                   ...   \n",
              "6167  10996        steven butler     steven     butler            2013-11-23   \n",
              "6168  10997      malcolm simmons    malcolm    simmons            2014-02-01   \n",
              "6169  10999      winston gregory    winston    gregory            2014-01-14   \n",
              "6170  11000          farrah jean     farrah       jean            2014-03-09   \n",
              "6171  11001  florencia sanmartin  florencia  sanmartin            2014-06-30   \n",
              "\n",
              "         sex         dob  age          age_cat              race  ...  \\\n",
              "0       Male  1947-04-18   69  Greater than 45             Other  ...   \n",
              "1       Male  1982-01-22   34          25 - 45  African-American  ...   \n",
              "2       Male  1991-05-14   24     Less than 25  African-American  ...   \n",
              "3       Male  1971-08-22   44          25 - 45             Other  ...   \n",
              "4       Male  1974-07-23   41          25 - 45         Caucasian  ...   \n",
              "...      ...         ...  ...              ...               ...  ...   \n",
              "6167    Male  1992-07-17   23     Less than 25  African-American  ...   \n",
              "6168    Male  1993-03-25   23     Less than 25  African-American  ...   \n",
              "6169    Male  1958-10-01   57  Greater than 45             Other  ...   \n",
              "6170  Female  1982-11-17   33          25 - 45  African-American  ...   \n",
              "6171  Female  1992-12-18   23     Less than 25          Hispanic  ...   \n",
              "\n",
              "      v_decile_score  v_score_text  v_screening_date  in_custody  out_custody  \\\n",
              "0                  1           Low        2013-08-14  2014-07-07   2014-07-14   \n",
              "1                  1           Low        2013-01-27  2013-01-26   2013-02-05   \n",
              "2                  3           Low        2013-04-14  2013-06-16   2013-06-16   \n",
              "3                  1           Low        2013-11-30  2013-11-30   2013-12-01   \n",
              "4                  2           Low        2014-02-19  2014-03-31   2014-04-18   \n",
              "...              ...           ...               ...         ...          ...   \n",
              "6167               5        Medium        2013-11-23  2013-11-22   2013-11-24   \n",
              "6168               5        Medium        2014-02-01  2014-01-31   2014-02-02   \n",
              "6169               1           Low        2014-01-14  2014-01-13   2014-01-14   \n",
              "6170               2           Low        2014-03-09  2014-03-08   2014-03-09   \n",
              "6171               4           Low        2014-06-30  2015-03-15   2015-03-15   \n",
              "\n",
              "      priors_count.1 start  end event two_year_recid  \n",
              "0                  0     0  327     0              0  \n",
              "1                  0     9  159     1              1  \n",
              "2                  4     0   63     0              1  \n",
              "3                  0     1  853     0              0  \n",
              "4                 14     5   40     1              1  \n",
              "...              ...   ...  ...   ...            ...  \n",
              "6167               0     1  860     0              0  \n",
              "6168               0     1  790     0              0  \n",
              "6169               0     0  808     0              0  \n",
              "6170               3     0  754     0              0  \n",
              "6171               2     0  258     0              1  \n",
              "\n",
              "[6172 rows x 53 columns]"
            ]
          },
          "execution_count": 77,
          "metadata": {},
          "output_type": "execute_result"
        }
      ],
      "source": [
        "# load the file\n",
        "df = pd.read_csv(COMPAS_INPUT_FILE)\n",
        "\n",
        "\n",
        "df = df.dropna(subset=[\"days_b_screening_arrest\"])\n",
        "\n",
        "df = df[\n",
        "    (df.days_b_screening_arrest <= 30) &\n",
        "    (df.days_b_screening_arrest >= -30) &\n",
        "    (df.is_recid != -1) &\n",
        "    (df.c_charge_degree != 'O') &\n",
        "    (df.score_text != 'N/A')\n",
        "]\n",
        "\n",
        "df.reset_index(inplace=True, drop=True)\n",
        "\n",
        "\n",
        "\n",
        "data = df.to_dict('list')\n",
        "for k in data.keys():\n",
        "    data[k] = np.array(data[k])\n",
        "\n",
        "df1 = df\n",
        "df"
      ]
    },
    {
      "cell_type": "markdown",
      "metadata": {
        "id": "YIMRx_WydYql"
      },
      "source": [
        "## Exploring the dataset\n",
        "\n",
        "The following pandas commands are very convenient to explore the data. Uncomment them to explore the data.\n",
        "\n",
        "<span style=\"color:red\">TODO</span>: Add a command to print the number of defendents per race.\n",
        "\n",
        "In the following, the majority are  African-Americans and Caucasians(termed blacks and whites for short)"
      ]
    },
    {
      "cell_type": "code",
      "execution_count": 78,
      "metadata": {
        "colab": {
          "base_uri": "https://localhost:8080/"
        },
        "id": "P9rLwEO_dYql",
        "outputId": "04746413-862a-4189-d6ba-5ec31c7ba477"
      },
      "outputs": [
        {
          "data": {
            "text/plain": [
              "race\n",
              "African-American    3175\n",
              "Caucasian           2103\n",
              "Hispanic             509\n",
              "Other                343\n",
              "Asian                 31\n",
              "Native American       11\n",
              "Name: count, dtype: int64"
            ]
          },
          "execution_count": 78,
          "metadata": {},
          "output_type": "execute_result"
        }
      ],
      "source": [
        "\n",
        "df.race.value_counts() # number of people by race\n"
      ]
    },
    {
      "cell_type": "markdown",
      "metadata": {
        "id": "B-Db8eOmEUj2"
      },
      "source": [
        "**COMMENT**\n",
        "we can notice that the difference of number of population between groups are so huge.\n",
        "\n",
        "African-American    3175\n",
        "\n",
        "Caucasian           2103\n",
        "\n",
        "Hispanic             509\n",
        "\n",
        "Other                343\n",
        "\n",
        "Asian                 31\n",
        "\n",
        "Native American       11"
      ]
    },
    {
      "cell_type": "markdown",
      "metadata": {
        "id": "VaWswvmvdYqm"
      },
      "source": [
        "## Basic analysis of the bias in COMPAS scores\n",
        "\n",
        "We now look at the COMPAS scores (deciles first, then text scores) as a function of the sensitive attribute (race or gender) to observe potential differences.\n",
        "\n",
        "We start by observing the scores for different groupes.\n"
      ]
    },
    {
      "cell_type": "code",
      "execution_count": 79,
      "metadata": {
        "colab": {
          "base_uri": "https://localhost:8080/",
          "height": 469
        },
        "id": "SHkM2VbadYqn",
        "outputId": "fd4b0fbf-73d7-4123-e63a-4090ddab49a5"
      },
      "outputs": [
        {
          "data": {
            "text/plain": [
              "<Axes: title={'center': \"Caucasian Defendant's Decile Scores \"}, ylabel='Frequency'>"
            ]
          },
          "execution_count": 79,
          "metadata": {},
          "output_type": "execute_result"
        },
        {
          "data": {
            "image/png": "[encoded data removed]",
            "text/plain": [
              "<Figure size 640x480 with 1 Axes>"
            ]
          },
          "metadata": {},
          "output_type": "display_data"
        }
      ],
      "source": [
        "df[df.race == 'African-American']['decile_score'].plot(kind='hist', title='African-American Defendant\\'s Decile Scores ')\n",
        "df[df.race == 'Caucasian']['decile_score'].plot(kind='hist', title='Caucasian Defendant\\'s Decile Scores ')\n"
      ]
    },
    {
      "cell_type": "markdown",
      "metadata": {
        "id": "T2E-ZQp0dYqn"
      },
      "source": [
        "The  observation can be explained by a dependence between the race and true label."
      ]
    },
    {
      "cell_type": "code",
      "execution_count": 80,
      "metadata": {
        "colab": {
          "base_uri": "https://localhost:8080/",
          "height": 269
        },
        "id": "VJQzfCQ2dYqo",
        "outputId": "622b3657-32d0-423e-b567-b42a17d8991a"
      },
      "outputs": [
        {
          "data": {
            "application/vnd.google.colaboratory.intrinsic+json": {
              "summary": "{\n  \"name\": \"recid_race\",\n  \"rows\": 6,\n  \"fields\": [\n    {\n      \"column\": \"race\",\n      \"properties\": {\n        \"dtype\": \"string\",\n        \"num_unique_values\": 6,\n        \"samples\": [\n          \"African-American\",\n          \"Asian\",\n          \"Other\"\n        ],\n        \"semantic_type\": \"\",\n        \"description\": \"\"\n      }\n    },\n    {\n      \"column\": 0,\n      \"properties\": {\n        \"dtype\": \"number\",\n        \"std\": 663,\n        \"min\": 6,\n        \"max\": 1514,\n        \"num_unique_values\": 6,\n        \"samples\": [\n          1514,\n          23,\n          219\n        ],\n        \"semantic_type\": \"\",\n        \"description\": \"\"\n      }\n    },\n    {\n      \"column\": 1,\n      \"properties\": {\n        \"dtype\": \"number\",\n        \"std\": 658,\n        \"min\": 5,\n        \"max\": 1661,\n        \"num_unique_values\": 6,\n        \"samples\": [\n          1661,\n          8,\n          124\n        ],\n        \"semantic_type\": \"\",\n        \"description\": \"\"\n      }\n    },\n    {\n      \"column\": \"rate\",\n      \"properties\": {\n        \"dtype\": \"number\",\n        \"std\": 0.08988876485838022,\n        \"min\": 0.25806451612903225,\n        \"max\": 0.5231496062992126,\n        \"num_unique_values\": 6,\n        \"samples\": [\n          0.5231496062992126,\n          0.25806451612903225,\n          0.36151603498542273\n        ],\n        \"semantic_type\": \"\",\n        \"description\": \"\"\n      }\n    }\n  ]\n}",
              "type": "dataframe",
              "variable_name": "recid_race"
            },
            "text/html": [
              "\n",
              "  <div id=\"df-0787c569-d069-4575-80c8-24277c4a03f9\" class=\"colab-df-container\">\n",
              "    <div>\n",
              "<style scoped>\n",
              "    .dataframe tbody tr th:only-of-type {\n",
              "        vertical-align: middle;\n",
              "    }\n",
              "\n",
              "    .dataframe tbody tr th {\n",
              "        vertical-align: top;\n",
              "    }\n",
              "\n",
              "    .dataframe thead th {\n",
              "        text-align: right;\n",
              "    }\n",
              "</style>\n",
              "<table border=\"1\" class=\"dataframe\">\n",
              "  <thead>\n",
              "    <tr style=\"text-align: right;\">\n",
              "      <th>two_year_recid</th>\n",
              "      <th>0</th>\n",
              "      <th>1</th>\n",
              "      <th>rate</th>\n",
              "    </tr>\n",
              "    <tr>\n",
              "      <th>race</th>\n",
              "      <th></th>\n",
              "      <th></th>\n",
              "      <th></th>\n",
              "    </tr>\n",
              "  </thead>\n",
              "  <tbody>\n",
              "    <tr>\n",
              "      <th>African-American</th>\n",
              "      <td>1514</td>\n",
              "      <td>1661</td>\n",
              "      <td>0.523150</td>\n",
              "    </tr>\n",
              "    <tr>\n",
              "      <th>Asian</th>\n",
              "      <td>23</td>\n",
              "      <td>8</td>\n",
              "      <td>0.258065</td>\n",
              "    </tr>\n",
              "    <tr>\n",
              "      <th>Caucasian</th>\n",
              "      <td>1281</td>\n",
              "      <td>822</td>\n",
              "      <td>0.390870</td>\n",
              "    </tr>\n",
              "    <tr>\n",
              "      <th>Hispanic</th>\n",
              "      <td>320</td>\n",
              "      <td>189</td>\n",
              "      <td>0.371316</td>\n",
              "    </tr>\n",
              "    <tr>\n",
              "      <th>Native American</th>\n",
              "      <td>6</td>\n",
              "      <td>5</td>\n",
              "      <td>0.454545</td>\n",
              "    </tr>\n",
              "    <tr>\n",
              "      <th>Other</th>\n",
              "      <td>219</td>\n",
              "      <td>124</td>\n",
              "      <td>0.361516</td>\n",
              "    </tr>\n",
              "  </tbody>\n",
              "</table>\n",
              "</div>\n",
              "    <div class=\"colab-df-buttons\">\n",
              "\n",
              "  <div class=\"colab-df-container\">\n",
              "    <button class=\"colab-df-convert\" onclick=\"convertToInteractive('df-0787c569-d069-4575-80c8-24277c4a03f9')\"\n",
              "            title=\"Convert this dataframe to an interactive table.\"\n",
              "            style=\"display:none;\">\n",
              "\n",
              "  <svg xmlns=\"http://www.w3.org/2000/svg\" height=\"24px\" viewBox=\"0 -960 960 960\">\n",
              "    <path d=\"M120-120v-720h720v720H120Zm60-500h600v-160H180v160Zm220 220h160v-160H400v160Zm0 220h160v-160H400v160ZM180-400h160v-160H180v160Zm440 0h160v-160H620v160ZM180-180h160v-160H180v160Zm440 0h160v-160H620v160Z\"/>\n",
              "  </svg>\n",
              "    </button>\n",
              "\n",
              "  <style>\n",
              "    .colab-df-container {\n",
              "      display:flex;\n",
              "      gap: 12px;\n",
              "    }\n",
              "\n",
              "    .colab-df-convert {\n",
              "      background-color: #E8F0FE;\n",
              "      border: none;\n",
              "      border-radius: 50%;\n",
              "      cursor: pointer;\n",
              "      display: none;\n",
              "      fill: #1967D2;\n",
              "      height: 32px;\n",
              "      padding: 0 0 0 0;\n",
              "      width: 32px;\n",
              "    }\n",
              "\n",
              "    .colab-df-convert:hover {\n",
              "      background-color: #E2EBFA;\n",
              "      box-shadow: 0px 1px 2px rgba(60, 64, 67, 0.3), 0px 1px 3px 1px rgba(60, 64, 67, 0.15);\n",
              "      fill: #174EA6;\n",
              "    }\n",
              "\n",
              "    .colab-df-buttons div {\n",
              "      margin-bottom: 4px;\n",
              "    }\n",
              "\n",
              "    [theme=dark] .colab-df-convert {\n",
              "      background-color: #3B4455;\n",
              "      fill: #D2E3FC;\n",
              "    }\n",
              "\n",
              "    [theme=dark] .colab-df-convert:hover {\n",
              "      background-color: #434B5C;\n",
              "      box-shadow: 0px 1px 3px 1px rgba(0, 0, 0, 0.15);\n",
              "      filter: drop-shadow(0px 1px 2px rgba(0, 0, 0, 0.3));\n",
              "      fill: #FFFFFF;\n",
              "    }\n",
              "  </style>\n",
              "\n",
              "    <script>\n",
              "      const buttonEl =\n",
              "        document.querySelector('#df-0787c569-d069-4575-80c8-24277c4a03f9 button.colab-df-convert');\n",
              "      buttonEl.style.display =\n",
              "        google.colab.kernel.accessAllowed ? 'block' : 'none';\n",
              "\n",
              "      async function convertToInteractive(key) {\n",
              "        const element = document.querySelector('#df-0787c569-d069-4575-80c8-24277c4a03f9');\n",
              "        const dataTable =\n",
              "          await google.colab.kernel.invokeFunction('convertToInteractive',\n",
              "                                                    [key], {});\n",
              "        if (!dataTable) return;\n",
              "\n",
              "        const docLinkHtml = 'Like what you see? Visit the ' +\n",
              "          '<a target=\"_blank\" href=https://colab.research.google.com/notebooks/data_table.ipynb>data table notebook</a>'\n",
              "          + ' to learn more about interactive tables.';\n",
              "        element.innerHTML = '';\n",
              "        dataTable['output_type'] = 'display_data';\n",
              "        await google.colab.output.renderOutput(dataTable, element);\n",
              "        const docLink = document.createElement('div');\n",
              "        docLink.innerHTML = docLinkHtml;\n",
              "        element.appendChild(docLink);\n",
              "      }\n",
              "    </script>\n",
              "  </div>\n",
              "\n",
              "\n",
              "<div id=\"df-728e4acb-6c8b-4f1d-817e-cdae3d933d90\">\n",
              "  <button class=\"colab-df-quickchart\" onclick=\"quickchart('df-728e4acb-6c8b-4f1d-817e-cdae3d933d90')\"\n",
              "            title=\"Suggest charts\"\n",
              "            style=\"display:none;\">\n",
              "\n",
              "<svg xmlns=\"http://www.w3.org/2000/svg\" height=\"24px\"viewBox=\"0 0 24 24\"\n",
              "     width=\"24px\">\n",
              "    <g>\n",
              "        <path d=\"M19 3H5c-1.1 0-2 .9-2 2v14c0 1.1.9 2 2 2h14c1.1 0 2-.9 2-2V5c0-1.1-.9-2-2-2zM9 17H7v-7h2v7zm4 0h-2V7h2v10zm4 0h-2v-4h2v4z\"/>\n",
              "    </g>\n",
              "</svg>\n",
              "  </button>\n",
              "\n",
              "<style>\n",
              "  .colab-df-quickchart {\n",
              "      --bg-color: #E8F0FE;\n",
              "      --fill-color: #1967D2;\n",
              "      --hover-bg-color: #E2EBFA;\n",
              "      --hover-fill-color: #174EA6;\n",
              "      --disabled-fill-color: #AAA;\n",
              "      --disabled-bg-color: #DDD;\n",
              "  }\n",
              "\n",
              "  [theme=dark] .colab-df-quickchart {\n",
              "      --bg-color: #3B4455;\n",
              "      --fill-color: #D2E3FC;\n",
              "      --hover-bg-color: #434B5C;\n",
              "      --hover-fill-color: #FFFFFF;\n",
              "      --disabled-bg-color: #3B4455;\n",
              "      --disabled-fill-color: #666;\n",
              "  }\n",
              "\n",
              "  .colab-df-quickchart {\n",
              "    background-color: var(--bg-color);\n",
              "    border: none;\n",
              "    border-radius: 50%;\n",
              "    cursor: pointer;\n",
              "    display: none;\n",
              "    fill: var(--fill-color);\n",
              "    height: 32px;\n",
              "    padding: 0;\n",
              "    width: 32px;\n",
              "  }\n",
              "\n",
              "  .colab-df-quickchart:hover {\n",
              "    background-color: var(--hover-bg-color);\n",
              "    box-shadow: 0 1px 2px rgba(60, 64, 67, 0.3), 0 1px 3px 1px rgba(60, 64, 67, 0.15);\n",
              "    fill: var(--button-hover-fill-color);\n",
              "  }\n",
              "\n",
              "  .colab-df-quickchart-complete:disabled,\n",
              "  .colab-df-quickchart-complete:disabled:hover {\n",
              "    background-color: var(--disabled-bg-color);\n",
              "    fill: var(--disabled-fill-color);\n",
              "    box-shadow: none;\n",
              "  }\n",
              "\n",
              "  .colab-df-spinner {\n",
              "    border: 2px solid var(--fill-color);\n",
              "    border-color: transparent;\n",
              "    border-bottom-color: var(--fill-color);\n",
              "    animation:\n",
              "      spin 1s steps(1) infinite;\n",
              "  }\n",
              "\n",
              "  @keyframes spin {\n",
              "    0% {\n",
              "      border-color: transparent;\n",
              "      border-bottom-color: var(--fill-color);\n",
              "      border-left-color: var(--fill-color);\n",
              "    }\n",
              "    20% {\n",
              "      border-color: transparent;\n",
              "      border-left-color: var(--fill-color);\n",
              "      border-top-color: var(--fill-color);\n",
              "    }\n",
              "    30% {\n",
              "      border-color: transparent;\n",
              "      border-left-color: var(--fill-color);\n",
              "      border-top-color: var(--fill-color);\n",
              "      border-right-color: var(--fill-color);\n",
              "    }\n",
              "    40% {\n",
              "      border-color: transparent;\n",
              "      border-right-color: var(--fill-color);\n",
              "      border-top-color: var(--fill-color);\n",
              "    }\n",
              "    60% {\n",
              "      border-color: transparent;\n",
              "      border-right-color: var(--fill-color);\n",
              "    }\n",
              "    80% {\n",
              "      border-color: transparent;\n",
              "      border-right-color: var(--fill-color);\n",
              "      border-bottom-color: var(--fill-color);\n",
              "    }\n",
              "    90% {\n",
              "      border-color: transparent;\n",
              "      border-bottom-color: var(--fill-color);\n",
              "    }\n",
              "  }\n",
              "</style>\n",
              "\n",
              "  <script>\n",
              "    async function quickchart(key) {\n",
              "      const quickchartButtonEl =\n",
              "        document.querySelector('#' + key + ' button');\n",
              "      quickchartButtonEl.disabled = true;  // To prevent multiple clicks.\n",
              "      quickchartButtonEl.classList.add('colab-df-spinner');\n",
              "      try {\n",
              "        const charts = await google.colab.kernel.invokeFunction(\n",
              "            'suggestCharts', [key], {});\n",
              "      } catch (error) {\n",
              "        console.error('Error during call to suggestCharts:', error);\n",
              "      }\n",
              "      quickchartButtonEl.classList.remove('colab-df-spinner');\n",
              "      quickchartButtonEl.classList.add('colab-df-quickchart-complete');\n",
              "    }\n",
              "    (() => {\n",
              "      let quickchartButtonEl =\n",
              "        document.querySelector('#df-728e4acb-6c8b-4f1d-817e-cdae3d933d90 button');\n",
              "      quickchartButtonEl.style.display =\n",
              "        google.colab.kernel.accessAllowed ? 'block' : 'none';\n",
              "    })();\n",
              "  </script>\n",
              "</div>\n",
              "    </div>\n",
              "  </div>\n"
            ],
            "text/plain": [
              "two_year_recid       0     1      rate\n",
              "race                                  \n",
              "African-American  1514  1661  0.523150\n",
              "Asian               23     8  0.258065\n",
              "Caucasian         1281   822  0.390870\n",
              "Hispanic           320   189  0.371316\n",
              "Native American      6     5  0.454545\n",
              "Other              219   124  0.361516"
            ]
          },
          "execution_count": 80,
          "metadata": {},
          "output_type": "execute_result"
        }
      ],
      "source": [
        "# recidivism rates by race\n",
        "recid_race = pd.crosstab(df.race, df.two_year_recid)\n",
        "recid_race['rate'] = recid_race[1] / recid_race.sum(axis=1)\n",
        "recid_race"
      ]
    },
    {
      "cell_type": "markdown",
      "metadata": {
        "id": "ockuys_jdYqo"
      },
      "source": [
        "We now look at whether we observe a similar phenomenon on the text scores of COMPAS (low, medium, high risk)."
      ]
    },
    {
      "cell_type": "code",
      "execution_count": 81,
      "metadata": {
        "colab": {
          "base_uri": "https://localhost:8080/",
          "height": 269
        },
        "id": "iciIzWSTdYqp",
        "outputId": "75b717bc-65d3-4378-d69e-3d8b9887485e"
      },
      "outputs": [
        {
          "data": {
            "application/vnd.google.colaboratory.intrinsic+json": {
              "summary": "{\n  \"name\": \"score_race\",\n  \"rows\": 6,\n  \"fields\": [\n    {\n      \"column\": \"race\",\n      \"properties\": {\n        \"dtype\": \"string\",\n        \"num_unique_values\": 6,\n        \"samples\": [\n          \"African-American\",\n          \"Asian\",\n          \"Other\"\n        ],\n        \"semantic_type\": \"\",\n        \"description\": \"\"\n      }\n    },\n    {\n      \"column\": \"High\",\n      \"properties\": {\n        \"dtype\": \"number\",\n        \"std\": 331,\n        \"min\": 3,\n        \"max\": 845,\n        \"num_unique_values\": 6,\n        \"samples\": [\n          845,\n          3,\n          22\n        ],\n        \"semantic_type\": \"\",\n        \"description\": \"\"\n      }\n    },\n    {\n      \"column\": \"Low\",\n      \"properties\": {\n        \"dtype\": \"number\",\n        \"std\": 640,\n        \"min\": 3,\n        \"max\": 1407,\n        \"num_unique_values\": 6,\n        \"samples\": [\n          1346,\n          24,\n          273\n        ],\n        \"semantic_type\": \"\",\n        \"description\": \"\"\n      }\n    },\n    {\n      \"column\": \"Medium\",\n      \"properties\": {\n        \"dtype\": \"number\",\n        \"std\": 393,\n        \"min\": 4,\n        \"max\": 984,\n        \"num_unique_values\": 5,\n        \"samples\": [\n          4,\n          48,\n          473\n        ],\n        \"semantic_type\": \"\",\n        \"description\": \"\"\n      }\n    },\n    {\n      \"column\": \"High risk rate\",\n      \"properties\": {\n        \"dtype\": \"number\",\n        \"std\": 0.12105337772167035,\n        \"min\": 0.0641399416909621,\n        \"max\": 0.36363636363636365,\n        \"num_unique_values\": 6,\n        \"samples\": [\n          0.26614173228346455,\n          0.0967741935483871,\n          0.0641399416909621\n        ],\n        \"semantic_type\": \"\",\n        \"description\": \"\"\n      }\n    }\n  ]\n}",
              "type": "dataframe",
              "variable_name": "score_race"
            },
            "text/html": [
              "\n",
              "  <div id=\"df-f2948575-1638-4fde-8f0f-ca9f052baa7d\" class=\"colab-df-container\">\n",
              "    <div>\n",
              "<style scoped>\n",
              "    .dataframe tbody tr th:only-of-type {\n",
              "        vertical-align: middle;\n",
              "    }\n",
              "\n",
              "    .dataframe tbody tr th {\n",
              "        vertical-align: top;\n",
              "    }\n",
              "\n",
              "    .dataframe thead th {\n",
              "        text-align: right;\n",
              "    }\n",
              "</style>\n",
              "<table border=\"1\" class=\"dataframe\">\n",
              "  <thead>\n",
              "    <tr style=\"text-align: right;\">\n",
              "      <th>score_text</th>\n",
              "      <th>High</th>\n",
              "      <th>Low</th>\n",
              "      <th>Medium</th>\n",
              "      <th>High risk rate</th>\n",
              "    </tr>\n",
              "    <tr>\n",
              "      <th>race</th>\n",
              "      <th></th>\n",
              "      <th></th>\n",
              "      <th></th>\n",
              "      <th></th>\n",
              "    </tr>\n",
              "  </thead>\n",
              "  <tbody>\n",
              "    <tr>\n",
              "      <th>African-American</th>\n",
              "      <td>845</td>\n",
              "      <td>1346</td>\n",
              "      <td>984</td>\n",
              "      <td>0.266142</td>\n",
              "    </tr>\n",
              "    <tr>\n",
              "      <th>Asian</th>\n",
              "      <td>3</td>\n",
              "      <td>24</td>\n",
              "      <td>4</td>\n",
              "      <td>0.096774</td>\n",
              "    </tr>\n",
              "    <tr>\n",
              "      <th>Caucasian</th>\n",
              "      <td>223</td>\n",
              "      <td>1407</td>\n",
              "      <td>473</td>\n",
              "      <td>0.106039</td>\n",
              "    </tr>\n",
              "    <tr>\n",
              "      <th>Hispanic</th>\n",
              "      <td>47</td>\n",
              "      <td>368</td>\n",
              "      <td>94</td>\n",
              "      <td>0.092338</td>\n",
              "    </tr>\n",
              "    <tr>\n",
              "      <th>Native American</th>\n",
              "      <td>4</td>\n",
              "      <td>3</td>\n",
              "      <td>4</td>\n",
              "      <td>0.363636</td>\n",
              "    </tr>\n",
              "    <tr>\n",
              "      <th>Other</th>\n",
              "      <td>22</td>\n",
              "      <td>273</td>\n",
              "      <td>48</td>\n",
              "      <td>0.064140</td>\n",
              "    </tr>\n",
              "  </tbody>\n",
              "</table>\n",
              "</div>\n",
              "    <div class=\"colab-df-buttons\">\n",
              "\n",
              "  <div class=\"colab-df-container\">\n",
              "    <button class=\"colab-df-convert\" onclick=\"convertToInteractive('df-f2948575-1638-4fde-8f0f-ca9f052baa7d')\"\n",
              "            title=\"Convert this dataframe to an interactive table.\"\n",
              "            style=\"display:none;\">\n",
              "\n",
              "  <svg xmlns=\"http://www.w3.org/2000/svg\" height=\"24px\" viewBox=\"0 -960 960 960\">\n",
              "    <path d=\"M120-120v-720h720v720H120Zm60-500h600v-160H180v160Zm220 220h160v-160H400v160Zm0 220h160v-160H400v160ZM180-400h160v-160H180v160Zm440 0h160v-160H620v160ZM180-180h160v-160H180v160Zm440 0h160v-160H620v160Z\"/>\n",
              "  </svg>\n",
              "    </button>\n",
              "\n",
              "  <style>\n",
              "    .colab-df-container {\n",
              "      display:flex;\n",
              "      gap: 12px;\n",
              "    }\n",
              "\n",
              "    .colab-df-convert {\n",
              "      background-color: #E8F0FE;\n",
              "      border: none;\n",
              "      border-radius: 50%;\n",
              "      cursor: pointer;\n",
              "      display: none;\n",
              "      fill: #1967D2;\n",
              "      height: 32px;\n",
              "      padding: 0 0 0 0;\n",
              "      width: 32px;\n",
              "    }\n",
              "\n",
              "    .colab-df-convert:hover {\n",
              "      background-color: #E2EBFA;\n",
              "      box-shadow: 0px 1px 2px rgba(60, 64, 67, 0.3), 0px 1px 3px 1px rgba(60, 64, 67, 0.15);\n",
              "      fill: #174EA6;\n",
              "    }\n",
              "\n",
              "    .colab-df-buttons div {\n",
              "      margin-bottom: 4px;\n",
              "    }\n",
              "\n",
              "    [theme=dark] .colab-df-convert {\n",
              "      background-color: #3B4455;\n",
              "      fill: #D2E3FC;\n",
              "    }\n",
              "\n",
              "    [theme=dark] .colab-df-convert:hover {\n",
              "      background-color: #434B5C;\n",
              "      box-shadow: 0px 1px 3px 1px rgba(0, 0, 0, 0.15);\n",
              "      filter: drop-shadow(0px 1px 2px rgba(0, 0, 0, 0.3));\n",
              "      fill: #FFFFFF;\n",
              "    }\n",
              "  </style>\n",
              "\n",
              "    <script>\n",
              "      const buttonEl =\n",
              "        document.querySelector('#df-f2948575-1638-4fde-8f0f-ca9f052baa7d button.colab-df-convert');\n",
              "      buttonEl.style.display =\n",
              "        google.colab.kernel.accessAllowed ? 'block' : 'none';\n",
              "\n",
              "      async function convertToInteractive(key) {\n",
              "        const element = document.querySelector('#df-f2948575-1638-4fde-8f0f-ca9f052baa7d');\n",
              "        const dataTable =\n",
              "          await google.colab.kernel.invokeFunction('convertToInteractive',\n",
              "                                                    [key], {});\n",
              "        if (!dataTable) return;\n",
              "\n",
              "        const docLinkHtml = 'Like what you see? Visit the ' +\n",
              "          '<a target=\"_blank\" href=https://colab.research.google.com/notebooks/data_table.ipynb>data table notebook</a>'\n",
              "          + ' to learn more about interactive tables.';\n",
              "        element.innerHTML = '';\n",
              "        dataTable['output_type'] = 'display_data';\n",
              "        await google.colab.output.renderOutput(dataTable, element);\n",
              "        const docLink = document.createElement('div');\n",
              "        docLink.innerHTML = docLinkHtml;\n",
              "        element.appendChild(docLink);\n",
              "      }\n",
              "    </script>\n",
              "  </div>\n",
              "\n",
              "\n",
              "<div id=\"df-d2100ddd-d155-48a0-b7ed-bb390548b299\">\n",
              "  <button class=\"colab-df-quickchart\" onclick=\"quickchart('df-d2100ddd-d155-48a0-b7ed-bb390548b299')\"\n",
              "            title=\"Suggest charts\"\n",
              "            style=\"display:none;\">\n",
              "\n",
              "<svg xmlns=\"http://www.w3.org/2000/svg\" height=\"24px\"viewBox=\"0 0 24 24\"\n",
              "     width=\"24px\">\n",
              "    <g>\n",
              "        <path d=\"M19 3H5c-1.1 0-2 .9-2 2v14c0 1.1.9 2 2 2h14c1.1 0 2-.9 2-2V5c0-1.1-.9-2-2-2zM9 17H7v-7h2v7zm4 0h-2V7h2v10zm4 0h-2v-4h2v4z\"/>\n",
              "    </g>\n",
              "</svg>\n",
              "  </button>\n",
              "\n",
              "<style>\n",
              "  .colab-df-quickchart {\n",
              "      --bg-color: #E8F0FE;\n",
              "      --fill-color: #1967D2;\n",
              "      --hover-bg-color: #E2EBFA;\n",
              "      --hover-fill-color: #174EA6;\n",
              "      --disabled-fill-color: #AAA;\n",
              "      --disabled-bg-color: #DDD;\n",
              "  }\n",
              "\n",
              "  [theme=dark] .colab-df-quickchart {\n",
              "      --bg-color: #3B4455;\n",
              "      --fill-color: #D2E3FC;\n",
              "      --hover-bg-color: #434B5C;\n",
              "      --hover-fill-color: #FFFFFF;\n",
              "      --disabled-bg-color: #3B4455;\n",
              "      --disabled-fill-color: #666;\n",
              "  }\n",
              "\n",
              "  .colab-df-quickchart {\n",
              "    background-color: var(--bg-color);\n",
              "    border: none;\n",
              "    border-radius: 50%;\n",
              "    cursor: pointer;\n",
              "    display: none;\n",
              "    fill: var(--fill-color);\n",
              "    height: 32px;\n",
              "    padding: 0;\n",
              "    width: 32px;\n",
              "  }\n",
              "\n",
              "  .colab-df-quickchart:hover {\n",
              "    background-color: var(--hover-bg-color);\n",
              "    box-shadow: 0 1px 2px rgba(60, 64, 67, 0.3), 0 1px 3px 1px rgba(60, 64, 67, 0.15);\n",
              "    fill: var(--button-hover-fill-color);\n",
              "  }\n",
              "\n",
              "  .colab-df-quickchart-complete:disabled,\n",
              "  .colab-df-quickchart-complete:disabled:hover {\n",
              "    background-color: var(--disabled-bg-color);\n",
              "    fill: var(--disabled-fill-color);\n",
              "    box-shadow: none;\n",
              "  }\n",
              "\n",
              "  .colab-df-spinner {\n",
              "    border: 2px solid var(--fill-color);\n",
              "    border-color: transparent;\n",
              "    border-bottom-color: var(--fill-color);\n",
              "    animation:\n",
              "      spin 1s steps(1) infinite;\n",
              "  }\n",
              "\n",
              "  @keyframes spin {\n",
              "    0% {\n",
              "      border-color: transparent;\n",
              "      border-bottom-color: var(--fill-color);\n",
              "      border-left-color: var(--fill-color);\n",
              "    }\n",
              "    20% {\n",
              "      border-color: transparent;\n",
              "      border-left-color: var(--fill-color);\n",
              "      border-top-color: var(--fill-color);\n",
              "    }\n",
              "    30% {\n",
              "      border-color: transparent;\n",
              "      border-left-color: var(--fill-color);\n",
              "      border-top-color: var(--fill-color);\n",
              "      border-right-color: var(--fill-color);\n",
              "    }\n",
              "    40% {\n",
              "      border-color: transparent;\n",
              "      border-right-color: var(--fill-color);\n",
              "      border-top-color: var(--fill-color);\n",
              "    }\n",
              "    60% {\n",
              "      border-color: transparent;\n",
              "      border-right-color: var(--fill-color);\n",
              "    }\n",
              "    80% {\n",
              "      border-color: transparent;\n",
              "      border-right-color: var(--fill-color);\n",
              "      border-bottom-color: var(--fill-color);\n",
              "    }\n",
              "    90% {\n",
              "      border-color: transparent;\n",
              "      border-bottom-color: var(--fill-color);\n",
              "    }\n",
              "  }\n",
              "</style>\n",
              "\n",
              "  <script>\n",
              "    async function quickchart(key) {\n",
              "      const quickchartButtonEl =\n",
              "        document.querySelector('#' + key + ' button');\n",
              "      quickchartButtonEl.disabled = true;  // To prevent multiple clicks.\n",
              "      quickchartButtonEl.classList.add('colab-df-spinner');\n",
              "      try {\n",
              "        const charts = await google.colab.kernel.invokeFunction(\n",
              "            'suggestCharts', [key], {});\n",
              "      } catch (error) {\n",
              "        console.error('Error during call to suggestCharts:', error);\n",
              "      }\n",
              "      quickchartButtonEl.classList.remove('colab-df-spinner');\n",
              "      quickchartButtonEl.classList.add('colab-df-quickchart-complete');\n",
              "    }\n",
              "    (() => {\n",
              "      let quickchartButtonEl =\n",
              "        document.querySelector('#df-d2100ddd-d155-48a0-b7ed-bb390548b299 button');\n",
              "      quickchartButtonEl.style.display =\n",
              "        google.colab.kernel.accessAllowed ? 'block' : 'none';\n",
              "    })();\n",
              "  </script>\n",
              "</div>\n",
              "    </div>\n",
              "  </div>\n"
            ],
            "text/plain": [
              "score_text        High   Low  Medium  High risk rate\n",
              "race                                                \n",
              "African-American   845  1346     984        0.266142\n",
              "Asian                3    24       4        0.096774\n",
              "Caucasian          223  1407     473        0.106039\n",
              "Hispanic            47   368      94        0.092338\n",
              "Native American      4     3       4        0.363636\n",
              "Other               22   273      48        0.064140"
            ]
          },
          "execution_count": 81,
          "metadata": {},
          "output_type": "execute_result"
        }
      ],
      "source": [
        "# high risk rates by race\n",
        "score_race = pd.crosstab(df.race, df.score_text)\n",
        "score_race['High risk rate'] = score_race['High'] / score_race.sum(axis=1)\n",
        "score_race"
      ]
    },
    {
      "cell_type": "markdown",
      "metadata": {
        "id": "uFQ83ufadYqp"
      },
      "source": [
        "### Fairness metrics for the COMPAS scores\n",
        "\n",
        "We do not have the actual scores that are used to compte text scores Low-Med-High; hence we cannot investigate directly the calibration. However, we can use the decile score as a proxy, and we can investigate PPV.\n",
        "\n",
        "Let us first plot the probability of recidivism by decile score. We notice that it is not very far from a diagonale."
      ]
    },
    {
      "cell_type": "code",
      "execution_count": 82,
      "metadata": {
        "colab": {
          "base_uri": "https://localhost:8080/",
          "height": 470
        },
        "id": "vrC2abkXdYqq",
        "outputId": "65b1e7b3-454a-40f8-da3f-e09de500d21a"
      },
      "outputs": [
        {
          "data": {
            "text/plain": [
              "<Axes: xlabel='decile_score'>"
            ]
          },
          "execution_count": 82,
          "metadata": {},
          "output_type": "execute_result"
        },
        {
          "data": {
            "image/png": "[encoded data removed]",
            "text/plain": [
              "<Figure size 640x480 with 1 Axes>"
            ]
          },
          "metadata": {},
          "output_type": "display_data"
        }
      ],
      "source": [
        "# probability of recidivism by decile\n",
        "df.groupby(df.decile_score)['two_year_recid'].mean().plot(kind='bar')"
      ]
    },
    {
      "cell_type": "markdown",
      "metadata": {
        "id": "uiGyFqvhdYqq"
      },
      "source": [
        "<span style=\"color:red\">TODO</span>: Plot a similar graph with separated bars for Blacks and Whites."
      ]
    },
    {
      "cell_type": "code",
      "execution_count": 83,
      "metadata": {
        "colab": {
          "base_uri": "https://localhost:8080/",
          "height": 470
        },
        "id": "Uyx0Bv9odYqr",
        "outputId": "81a6b81f-534c-4da1-a7f0-33495abb3bd6"
      },
      "outputs": [
        {
          "data": {
            "text/plain": [
              "<Axes: xlabel='decile_score'>"
            ]
          },
          "execution_count": 83,
          "metadata": {},
          "output_type": "execute_result"
        },
        {
          "data": {
            "image/png": "[encoded data removed]",
            "text/plain": [
              "<Figure size 640x480 with 1 Axes>"
            ]
          },
          "metadata": {},
          "output_type": "display_data"
        }
      ],
      "source": [
        "b = df[df.race=='African-American'].groupby(df.decile_score)['two_year_recid'].mean()\n",
        "w = df[df.race!='African-American'].groupby(df.decile_score)['two_year_recid'].mean()\n",
        "a = pd.concat([w,b], axis=1)\n",
        "a.columns = ['White','Black']\n",
        "a.plot.bar()\n",
        "# -->"
      ]
    },
    {
      "cell_type": "markdown",
      "metadata": {
        "id": "BeB3fCgyDgIk"
      },
      "source": [
        "#COMMENT\n",
        "we notice from this plot that there are mostly more black people than others"
      ]
    },
    {
      "cell_type": "markdown",
      "metadata": {
        "id": "oUxz0WnvdYqr"
      },
      "source": [
        "To further analyze the COMPAS score as a classifier, we transform it into a binary outcome by splitting \"low\" (class 0) from \"medium or high\" risk (class 1). We can then compute standard quantities such as the confusion matrix or PPV."
      ]
    },
    {
      "cell_type": "code",
      "execution_count": 84,
      "metadata": {
        "colab": {
          "base_uri": "https://localhost:8080/",
          "height": 143
        },
        "id": "n8aqZ1xKdYqs",
        "outputId": "702c6228-210f-486b-ab25-1deed6475a0a"
      },
      "outputs": [
        {
          "data": {
            "application/vnd.google.colaboratory.intrinsic+json": {
              "summary": "{\n  \"name\": \"cm\",\n  \"rows\": 2,\n  \"fields\": [\n    {\n      \"column\": \"actual_recid\",\n      \"properties\": {\n        \"dtype\": \"boolean\",\n        \"num_unique_values\": 2,\n        \"samples\": [\n          true,\n          false\n        ],\n        \"semantic_type\": \"\",\n        \"description\": \"\"\n      }\n    },\n    {\n      \"column\": false,\n      \"properties\": {\n        \"dtype\": \"number\",\n        \"std\": 897,\n        \"min\": 1076,\n        \"max\": 2345,\n        \"num_unique_values\": 2,\n        \"samples\": [\n          1076,\n          2345\n        ],\n        \"semantic_type\": \"\",\n        \"description\": \"\"\n      }\n    },\n    {\n      \"column\": true,\n      \"properties\": {\n        \"dtype\": \"number\",\n        \"std\": 505,\n        \"min\": 1018,\n        \"max\": 1733,\n        \"num_unique_values\": 2,\n        \"samples\": [\n          1733,\n          1018\n        ],\n        \"semantic_type\": \"\",\n        \"description\": \"\"\n      }\n    }\n  ]\n}",
              "type": "dataframe",
              "variable_name": "cm"
            },
            "text/html": [
              "\n",
              "  <div id=\"df-094f5f73-0643-4469-b848-5b7c2e585955\" class=\"colab-df-container\">\n",
              "    <div>\n",
              "<style scoped>\n",
              "    .dataframe tbody tr th:only-of-type {\n",
              "        vertical-align: middle;\n",
              "    }\n",
              "\n",
              "    .dataframe tbody tr th {\n",
              "        vertical-align: top;\n",
              "    }\n",
              "\n",
              "    .dataframe thead th {\n",
              "        text-align: right;\n",
              "    }\n",
              "</style>\n",
              "<table border=\"1\" class=\"dataframe\">\n",
              "  <thead>\n",
              "    <tr style=\"text-align: right;\">\n",
              "      <th>guessed_recid</th>\n",
              "      <th>False</th>\n",
              "      <th>True</th>\n",
              "    </tr>\n",
              "    <tr>\n",
              "      <th>actual_recid</th>\n",
              "      <th></th>\n",
              "      <th></th>\n",
              "    </tr>\n",
              "  </thead>\n",
              "  <tbody>\n",
              "    <tr>\n",
              "      <th>False</th>\n",
              "      <td>2345</td>\n",
              "      <td>1018</td>\n",
              "    </tr>\n",
              "    <tr>\n",
              "      <th>True</th>\n",
              "      <td>1076</td>\n",
              "      <td>1733</td>\n",
              "    </tr>\n",
              "  </tbody>\n",
              "</table>\n",
              "</div>\n",
              "    <div class=\"colab-df-buttons\">\n",
              "\n",
              "  <div class=\"colab-df-container\">\n",
              "    <button class=\"colab-df-convert\" onclick=\"convertToInteractive('df-094f5f73-0643-4469-b848-5b7c2e585955')\"\n",
              "            title=\"Convert this dataframe to an interactive table.\"\n",
              "            style=\"display:none;\">\n",
              "\n",
              "  <svg xmlns=\"http://www.w3.org/2000/svg\" height=\"24px\" viewBox=\"0 -960 960 960\">\n",
              "    <path d=\"M120-120v-720h720v720H120Zm60-500h600v-160H180v160Zm220 220h160v-160H400v160Zm0 220h160v-160H400v160ZM180-400h160v-160H180v160Zm440 0h160v-160H620v160ZM180-180h160v-160H180v160Zm440 0h160v-160H620v160Z\"/>\n",
              "  </svg>\n",
              "    </button>\n",
              "\n",
              "  <style>\n",
              "    .colab-df-container {\n",
              "      display:flex;\n",
              "      gap: 12px;\n",
              "    }\n",
              "\n",
              "    .colab-df-convert {\n",
              "      background-color: #E8F0FE;\n",
              "      border: none;\n",
              "      border-radius: 50%;\n",
              "      cursor: pointer;\n",
              "      display: none;\n",
              "      fill: #1967D2;\n",
              "      height: 32px;\n",
              "      padding: 0 0 0 0;\n",
              "      width: 32px;\n",
              "    }\n",
              "\n",
              "    .colab-df-convert:hover {\n",
              "      background-color: #E2EBFA;\n",
              "      box-shadow: 0px 1px 2px rgba(60, 64, 67, 0.3), 0px 1px 3px 1px rgba(60, 64, 67, 0.15);\n",
              "      fill: #174EA6;\n",
              "    }\n",
              "\n",
              "    .colab-df-buttons div {\n",
              "      margin-bottom: 4px;\n",
              "    }\n",
              "\n",
              "    [theme=dark] .colab-df-convert {\n",
              "      background-color: #3B4455;\n",
              "      fill: #D2E3FC;\n",
              "    }\n",
              "\n",
              "    [theme=dark] .colab-df-convert:hover {\n",
              "      background-color: #434B5C;\n",
              "      box-shadow: 0px 1px 3px 1px rgba(0, 0, 0, 0.15);\n",
              "      filter: drop-shadow(0px 1px 2px rgba(0, 0, 0, 0.3));\n",
              "      fill: #FFFFFF;\n",
              "    }\n",
              "  </style>\n",
              "\n",
              "    <script>\n",
              "      const buttonEl =\n",
              "        document.querySelector('#df-094f5f73-0643-4469-b848-5b7c2e585955 button.colab-df-convert');\n",
              "      buttonEl.style.display =\n",
              "        google.colab.kernel.accessAllowed ? 'block' : 'none';\n",
              "\n",
              "      async function convertToInteractive(key) {\n",
              "        const element = document.querySelector('#df-094f5f73-0643-4469-b848-5b7c2e585955');\n",
              "        const dataTable =\n",
              "          await google.colab.kernel.invokeFunction('convertToInteractive',\n",
              "                                                    [key], {});\n",
              "        if (!dataTable) return;\n",
              "\n",
              "        const docLinkHtml = 'Like what you see? Visit the ' +\n",
              "          '<a target=\"_blank\" href=https://colab.research.google.com/notebooks/data_table.ipynb>data table notebook</a>'\n",
              "          + ' to learn more about interactive tables.';\n",
              "        element.innerHTML = '';\n",
              "        dataTable['output_type'] = 'display_data';\n",
              "        await google.colab.output.renderOutput(dataTable, element);\n",
              "        const docLink = document.createElement('div');\n",
              "        docLink.innerHTML = docLinkHtml;\n",
              "        element.appendChild(docLink);\n",
              "      }\n",
              "    </script>\n",
              "  </div>\n",
              "\n",
              "\n",
              "<div id=\"df-1b554bda-f634-4e3f-a6de-3ad3ec17f1c0\">\n",
              "  <button class=\"colab-df-quickchart\" onclick=\"quickchart('df-1b554bda-f634-4e3f-a6de-3ad3ec17f1c0')\"\n",
              "            title=\"Suggest charts\"\n",
              "            style=\"display:none;\">\n",
              "\n",
              "<svg xmlns=\"http://www.w3.org/2000/svg\" height=\"24px\"viewBox=\"0 0 24 24\"\n",
              "     width=\"24px\">\n",
              "    <g>\n",
              "        <path d=\"M19 3H5c-1.1 0-2 .9-2 2v14c0 1.1.9 2 2 2h14c1.1 0 2-.9 2-2V5c0-1.1-.9-2-2-2zM9 17H7v-7h2v7zm4 0h-2V7h2v10zm4 0h-2v-4h2v4z\"/>\n",
              "    </g>\n",
              "</svg>\n",
              "  </button>\n",
              "\n",
              "<style>\n",
              "  .colab-df-quickchart {\n",
              "      --bg-color: #E8F0FE;\n",
              "      --fill-color: #1967D2;\n",
              "      --hover-bg-color: #E2EBFA;\n",
              "      --hover-fill-color: #174EA6;\n",
              "      --disabled-fill-color: #AAA;\n",
              "      --disabled-bg-color: #DDD;\n",
              "  }\n",
              "\n",
              "  [theme=dark] .colab-df-quickchart {\n",
              "      --bg-color: #3B4455;\n",
              "      --fill-color: #D2E3FC;\n",
              "      --hover-bg-color: #434B5C;\n",
              "      --hover-fill-color: #FFFFFF;\n",
              "      --disabled-bg-color: #3B4455;\n",
              "      --disabled-fill-color: #666;\n",
              "  }\n",
              "\n",
              "  .colab-df-quickchart {\n",
              "    background-color: var(--bg-color);\n",
              "    border: none;\n",
              "    border-radius: 50%;\n",
              "    cursor: pointer;\n",
              "    display: none;\n",
              "    fill: var(--fill-color);\n",
              "    height: 32px;\n",
              "    padding: 0;\n",
              "    width: 32px;\n",
              "  }\n",
              "\n",
              "  .colab-df-quickchart:hover {\n",
              "    background-color: var(--hover-bg-color);\n",
              "    box-shadow: 0 1px 2px rgba(60, 64, 67, 0.3), 0 1px 3px 1px rgba(60, 64, 67, 0.15);\n",
              "    fill: var(--button-hover-fill-color);\n",
              "  }\n",
              "\n",
              "  .colab-df-quickchart-complete:disabled,\n",
              "  .colab-df-quickchart-complete:disabled:hover {\n",
              "    background-color: var(--disabled-bg-color);\n",
              "    fill: var(--disabled-fill-color);\n",
              "    box-shadow: none;\n",
              "  }\n",
              "\n",
              "  .colab-df-spinner {\n",
              "    border: 2px solid var(--fill-color);\n",
              "    border-color: transparent;\n",
              "    border-bottom-color: var(--fill-color);\n",
              "    animation:\n",
              "      spin 1s steps(1) infinite;\n",
              "  }\n",
              "\n",
              "  @keyframes spin {\n",
              "    0% {\n",
              "      border-color: transparent;\n",
              "      border-bottom-color: var(--fill-color);\n",
              "      border-left-color: var(--fill-color);\n",
              "    }\n",
              "    20% {\n",
              "      border-color: transparent;\n",
              "      border-left-color: var(--fill-color);\n",
              "      border-top-color: var(--fill-color);\n",
              "    }\n",
              "    30% {\n",
              "      border-color: transparent;\n",
              "      border-left-color: var(--fill-color);\n",
              "      border-top-color: var(--fill-color);\n",
              "      border-right-color: var(--fill-color);\n",
              "    }\n",
              "    40% {\n",
              "      border-color: transparent;\n",
              "      border-right-color: var(--fill-color);\n",
              "      border-top-color: var(--fill-color);\n",
              "    }\n",
              "    60% {\n",
              "      border-color: transparent;\n",
              "      border-right-color: var(--fill-color);\n",
              "    }\n",
              "    80% {\n",
              "      border-color: transparent;\n",
              "      border-right-color: var(--fill-color);\n",
              "      border-bottom-color: var(--fill-color);\n",
              "    }\n",
              "    90% {\n",
              "      border-color: transparent;\n",
              "      border-bottom-color: var(--fill-color);\n",
              "    }\n",
              "  }\n",
              "</style>\n",
              "\n",
              "  <script>\n",
              "    async function quickchart(key) {\n",
              "      const quickchartButtonEl =\n",
              "        document.querySelector('#' + key + ' button');\n",
              "      quickchartButtonEl.disabled = true;  // To prevent multiple clicks.\n",
              "      quickchartButtonEl.classList.add('colab-df-spinner');\n",
              "      try {\n",
              "        const charts = await google.colab.kernel.invokeFunction(\n",
              "            'suggestCharts', [key], {});\n",
              "      } catch (error) {\n",
              "        console.error('Error during call to suggestCharts:', error);\n",
              "      }\n",
              "      quickchartButtonEl.classList.remove('colab-df-spinner');\n",
              "      quickchartButtonEl.classList.add('colab-df-quickchart-complete');\n",
              "    }\n",
              "    (() => {\n",
              "      let quickchartButtonEl =\n",
              "        document.querySelector('#df-1b554bda-f634-4e3f-a6de-3ad3ec17f1c0 button');\n",
              "      quickchartButtonEl.style.display =\n",
              "        google.colab.kernel.accessAllowed ? 'block' : 'none';\n",
              "    })();\n",
              "  </script>\n",
              "</div>\n",
              "    </div>\n",
              "  </div>\n"
            ],
            "text/plain": [
              "guessed_recid  False  True \n",
              "actual_recid               \n",
              "False           2345   1018\n",
              "True            1076   1733"
            ]
          },
          "execution_count": 84,
          "metadata": {},
          "output_type": "execute_result"
        }
      ],
      "source": [
        "# COMPAS recidivism confusion matrix\n",
        "df['guessed_recid'] = df.score_text != 'Low'\n",
        "df['actual_recid'] = df.two_year_recid == 1\n",
        "cm = pd.crosstab(df.actual_recid, df.guessed_recid)\n",
        "cm # for \"confusion matrix\""
      ]
    },
    {
      "cell_type": "markdown",
      "metadata": {
        "id": "FvXy8Q8tdYqt"
      },
      "source": [
        "We finally compute the PPV, TPR and FPR of the COMPAS classifier.\n",
        "\n",
        " Observe the differences in the metrics between Blacks and Whites and comment."
      ]
    },
    {
      "cell_type": "code",
      "execution_count": 85,
      "metadata": {
        "colab": {
          "base_uri": "https://localhost:8080/"
        },
        "id": "F-2Fg0LydYqt",
        "outputId": "7491a5a1-de57-4635-8a29-cf0866b00bdc"
      },
      "outputs": [
        {
          "name": "stdout",
          "output_type": "stream",
          "text": [
            "COMPAS accuracy score\n",
            "Accuracy:  0.6607258587167855\n",
            "\n",
            "PPV:  0.6299527444565612\n",
            "FPR:  0.30270591733571217\n",
            "FNR:  0.38305446778212887\n",
            "\n",
            "-----------black\n",
            "actual   False  True \n",
            "guessed              \n",
            "False      873    473\n",
            "True       641   1188\n",
            "Accuracy:  0.6491338582677165\n",
            "\n",
            "PPV:  0.6495352651722253\n",
            "FPR:  0.4233817701453104\n",
            "FNR:  0.2847682119205298\n",
            "\n",
            "-----------white\n",
            "actual   False  True \n",
            "guessed              \n",
            "False     1472    603\n",
            "True       377    545\n",
            "\n",
            "Accuracy:  0.6730063396730064\n",
            "\n",
            "PPV:  0.5911062906724512\n",
            "FPR:  0.2038939967550027\n",
            "FNR:  0.5252613240418118\n",
            "\n",
            "-----------difference between groups----------\n",
            "Accuracy:  0.023872481405289858\n",
            "Treatment equality 0.7299724071678254\n",
            "PPV difference:  0.05842897449977402\n",
            "FPR difference:  0.21948777339030773\n",
            "FNR difference:  0.240493112121282\n",
            "\n"
          ]
        }
      ],
      "source": [
        "# cm is a confusion matrix. The rows are guessed, the columns are actual\n",
        "def print_ppv_fpv(cm):\n",
        "    TN = cm[False][False]\n",
        "    TP = cm[True][True]\n",
        "    FN = cm[True][False]\n",
        "    FP = cm[False][True]\n",
        "    Accuracy  = (TN+TP)/(TN+TP+FN+FP)\n",
        "    PPV= TP / (TP + FP)\n",
        "    FPR= FP / (FP + TN)\n",
        "    FNR= FN / (FN + TP)\n",
        "    print('Accuracy: ', Accuracy)\n",
        "    print()\n",
        "    print('PPV: ', PPV)\n",
        "    print('FPR: ', FPR)\n",
        "    print('FNR: ', FNR)\n",
        "    print()\n",
        "\n",
        "\n",
        "def print_ppv_fpv_diff(cm1, cm2):\n",
        "    print(\"-----------difference between groups----------\")\n",
        "    TN = cm1[False][False]\n",
        "    TP = cm1[True][True]\n",
        "    FN = cm1[True][False]\n",
        "    FP = cm1[False][True]\n",
        "    Accuracy  = (TN+TP)/(TN+TP+FN+FP)\n",
        "    treatment = FP / FN\n",
        "    PPV= TP / (TP + FP)\n",
        "    FPR= FP / (FP + TN)\n",
        "    FNR= FN / (FN + TP)\n",
        "\n",
        "    TN1 = cm2[False][False]\n",
        "    TP1 = cm2[True][True]\n",
        "    FN1 = cm2[True][False]\n",
        "    FP1 = cm2[False][True]\n",
        "    Accuracy1  = (TN1+TP1)/(TN1+TP1+FN1+FP1)\n",
        "\n",
        "    PPV1= TP1 / (TP1 + FP1)\n",
        "    FPR1= FP1 / (FP1 + TN1)\n",
        "    FNR1= FN1 / (FN1 + TP1)\n",
        "    treatment1 = FP1 / FN1\n",
        "\n",
        "\n",
        "    print('Accuracy: ', abs(Accuracy - Accuracy1))\n",
        "    print(\"Treatment equality\", abs(treatment1 - treatment))\n",
        "    print('PPV difference: ', abs(PPV1 - PPV))\n",
        "    print('FPR difference: ', abs(FPR1 - FPR))\n",
        "    print('FNR difference: ', abs(FNR1 - FNR))\n",
        "    print()\n",
        "\n",
        "\n",
        "\n",
        "def print_metrics(b_guessed, b_actual, w_guessed, w_actual):\n",
        "    b_cm = pd.crosstab(b_guessed, b_actual, rownames=['guessed'], colnames=['actual'])\n",
        "    print(\"-----------black\")\n",
        "    print(b_cm)\n",
        "    print_ppv_fpv(b_cm)\n",
        "    w_cm = pd.crosstab(w_guessed, w_actual, rownames=['guessed'], colnames=['actual'])\n",
        "    print(\"-----------white\")\n",
        "    print(w_cm)\n",
        "    print()\n",
        "    print_ppv_fpv(w_cm)\n",
        "    print_ppv_fpv_diff(w_cm,b_cm)\n",
        "\n",
        "\n",
        "Subset_w = df[df['race'] != 'African-American']\n",
        "Subset_b = df[df.race == 'African-American']\n",
        "\n",
        "acc = pd.crosstab(df.guessed_recid, df.actual_recid, rownames=['guessed'], colnames=['actual'])\n",
        "print(\"COMPAS accuracy score\")\n",
        "print_ppv_fpv(acc)\n",
        "print_metrics(Subset_b.guessed_recid, Subset_b.actual_recid, Subset_w.guessed_recid, Subset_w.actual_recid)\n",
        "\n",
        "\n",
        "\n"
      ]
    },
    {
      "cell_type": "markdown",
      "metadata": {
        "id": "R_RAzLt3dYqu"
      },
      "source": [
        "Conclusion: the False Positive Rate is substantially higher for black defendants,This can seen by the FPR difference which is the difference between the two groups but the PPV is roughly similar between blacks and whites . the COMPAS score satisfies sufficiency, but not separation.\n",
        "\n",
        "when the FFR between the two groups means that they are treated equally"
      ]
    },
    {
      "cell_type": "markdown",
      "metadata": {
        "id": "6yhL5rdrlqQh"
      },
      "source": [
        "#OTHER ANALYSIS"
      ]
    },
    {
      "cell_type": "markdown",
      "metadata": {
        "id": "O3rOiixGogFW"
      },
      "source": [
        "**COMMENT**\n",
        "As Hispanic, Other, Asian, Native American represent the minority, we grouped these races in one group and the black race on another group to have two different groups that have basically the same number of population\n",
        "\n",
        "\n",
        "-As we can see in the following graph black race is higher than other races"
      ]
    },
    {
      "cell_type": "code",
      "execution_count": 86,
      "metadata": {
        "colab": {
          "base_uri": "https://localhost:8080/",
          "height": 588
        },
        "id": "Sp2L5365vB-R",
        "outputId": "aa7602a0-6aa9-46f9-e282-c1288f3e9c71"
      },
      "outputs": [
        {
          "data": {
            "image/png": "[encoded data removed]",
            "text/plain": [
              "<Figure size 1200x600 with 1 Axes>"
            ]
          },
          "metadata": {},
          "output_type": "display_data"
        }
      ],
      "source": [
        "import pandas as pd\n",
        "import matplotlib.pyplot as plt\n",
        "import seaborn as sns\n",
        "\n",
        "\n",
        "df['race_group'] = df['race'].apply(lambda x: 'Black' if x == 'African-American' else 'Other')\n",
        "\n",
        "\n",
        "plt.figure(figsize=(12, 6))\n",
        "sns.boxplot(data=df, x='race_group', y='decile_score', hue='sex', palette='Set2',\n",
        "            order=['Black', 'Other'], hue_order=['Female', 'Male'])\n",
        "plt.title('Distribution of COMPAS Scores by Race, Gender, and Age Category')\n",
        "plt.xlabel('Race Group')\n",
        "plt.ylabel('COMPAS Score')\n",
        "plt.xticks(rotation=45)\n",
        "plt.legend(title='Gender')\n",
        "plt.grid(True)\n",
        "plt.show()\n"
      ]
    },
    {
      "cell_type": "markdown",
      "metadata": {
        "id": "RzxU6sqVv-N5"
      },
      "source": [
        "#Let's take a look at the COMPAS score by age and by race."
      ]
    },
    {
      "cell_type": "code",
      "execution_count": 87,
      "metadata": {
        "colab": {
          "base_uri": "https://localhost:8080/",
          "height": 588
        },
        "id": "7pA85vb_wMde",
        "outputId": "57465209-3374-4a06-abca-dd5452da2edb"
      },
      "outputs": [
        {
          "data": {
            "image/png": "[encoded data removed]",
            "text/plain": [
              "<Figure size 1200x600 with 1 Axes>"
            ]
          },
          "metadata": {},
          "output_type": "display_data"
        }
      ],
      "source": [
        "import matplotlib.pyplot as plt\n",
        "import seaborn as sns\n",
        "\n",
        "df['race_group'] = df['race'].apply(lambda x: 'Black' if x == 'African-American' else 'Other')\n",
        "\n",
        "\n",
        "plt.figure(figsize=(12, 6))\n",
        "sns.boxplot(data=df, x='race_group', y='decile_score', hue='age_cat', palette='Set2')\n",
        "plt.title('Distribution of COMPAS Scores by Race and Gender')\n",
        "plt.xlabel('Race Group')\n",
        "plt.ylabel('COMPAS Score')\n",
        "plt.xticks(rotation=45)\n",
        "plt.legend(title='Gender')\n",
        "plt.grid(True)\n",
        "plt.show()"
      ]
    },
    {
      "cell_type": "markdown",
      "metadata": {
        "id": "s26UXMqNwOkX"
      },
      "source": [
        "##COMMENT\n",
        "We can see from this graph that there are more young black individuals likely to have a high score than other racial groups"
      ]
    },
    {
      "cell_type": "markdown",
      "metadata": {
        "id": "6e5LzOeWb5Rw"
      },
      "source": [
        "#Another analysis:\n",
        "As we can observe, the different racial groups do not have the same population size, so to make a fair comparison, we need to take a sample from each group to see if the black group is truly disadvantaged.\n",
        "\n",
        "We randomly selected 10 individuals from each group for this analysis.\n",
        "Let's see the results:"
      ]
    },
    {
      "cell_type": "code",
      "execution_count": 141,
      "metadata": {
        "colab": {
          "base_uri": "https://localhost:8080/",
          "height": 564
        },
        "id": "p2AbGCbGdBGS",
        "outputId": "96f861df-0b39-40d1-94b1-d67c8ad9461f"
      },
      "outputs": [
        {
          "data": {
            "image/png": "[encoded data removed]",
            "text/plain": [
              "<Figure size 1000x600 with 1 Axes>"
            ]
          },
          "metadata": {},
          "output_type": "display_data"
        }
      ],
      "source": [
        "import seaborn as sns\n",
        "\n",
        "race_groups = df1['race'].unique()\n",
        "sampled_data_per_race = {}\n",
        "num_samples_per_group = 10\n",
        "\n",
        "for race_group in race_groups:\n",
        "    indices = df1[df1['race'] == race_group].index\n",
        "    if num_samples_per_group > len(indices):\n",
        "        num_samples_per_group = len(indices)\n",
        "\n",
        "\n",
        "    sampled_indices = np.random.choice(indices, size=num_samples_per_group, replace=False)\n",
        "\n",
        "\n",
        "    sampled_data_per_race[race_group] = df1.loc[sampled_indices].copy()\n",
        "\n",
        "plt.figure(figsize=(10, 6))\n",
        "\n",
        "for race_group, sampled_data in sampled_data_per_race.items():  # Changed variable name here\n",
        "    sns.boxplot(data=sampled_data, x='race', y='decile_score', ax=plt.gca())\n",
        "\n",
        "plt.title('Decile Score Distribution by Race Group')\n",
        "plt.xlabel('Race')\n",
        "plt.ylabel('Decile Score')\n",
        "\n",
        "plt.legend(sampled_data_per_race.keys(), title='Race Group')\n",
        "plt.grid(True)\n",
        "plt.show()\n"
      ]
    },
    {
      "cell_type": "markdown",
      "metadata": {
        "id": "JWRfjJNIfYV6"
      },
      "source": [
        "# COMMENT\n",
        "Since the data is randomly sampled from the dataset, it's possible for the graph's analysis to change.\n",
        "In 70% of cases, with each new execution of the cell, we notice that the decile scores of all other races are below average except for those of blacks. As for the case of Native Americans, 10 individuals represent 99.9% of the total population, so it's normal for the decile score to be high.\n",
        "\n",
        "(we recommand you to execute the cell several time to see the difference)"
      ]
    },
    {
      "cell_type": "markdown",
      "metadata": {
        "id": "Aae9RKkywj87"
      },
      "source": [
        "## GENERAL COMMENT\n",
        "\n",
        "The analyses highlight inequalities in how individuals are treated by COMPAS, indicating disparities between groups, especially among young blacks."
      ]
    },
    {
      "cell_type": "markdown",
      "metadata": {
        "id": "E-nL66aEe6oz"
      },
      "source": [
        "#STANDARD CLASSIFIER"
      ]
    },
    {
      "cell_type": "markdown",
      "metadata": {
        "id": "QP37VE_ddYqu"
      },
      "source": [
        "## Training a classifier from the ground truth label\n",
        "\n",
        "We now train a classifier (a simple logistic regression) on the label two_year_recid. We work on a subset of features: [\"age_cat\", \"race\", \"sex\", \"priors_count\", \"c_charge_degree\"].\n",
        "\n",
        "<span style=\"color:red\">TODO</span>: Complete the model definition and fitting."
      ]
    },
    {
      "cell_type": "code",
      "execution_count": 89,
      "metadata": {
        "colab": {
          "base_uri": "https://localhost:8080/",
          "height": 75
        },
        "id": "R9nzs5XmdYqu",
        "outputId": "78a09ca0-6794-4cd1-dee6-69c514580299"
      },
      "outputs": [
        {
          "data": {
            "text/html": [
              "<style>#sk-container-id-3 {color: black;background-color: white;}#sk-container-id-3 pre{padding: 0;}#sk-container-id-3 div.sk-toggleable {background-color: white;}#sk-container-id-3 label.sk-toggleable__label {cursor: pointer;display: block;width: 100%;margin-bottom: 0;padding: 0.3em;box-sizing: border-box;text-align: center;}#sk-container-id-3 label.sk-toggleable__label-arrow:before {content: \"▸\";float: left;margin-right: 0.25em;color: #696969;}#sk-container-id-3 label.sk-toggleable__label-arrow:hover:before {color: black;}#sk-container-id-3 div.sk-estimator:hover label.sk-toggleable__label-arrow:before {color: black;}#sk-container-id-3 div.sk-toggleable__content {max-height: 0;max-width: 0;overflow: hidden;text-align: left;background-color: #f0f8ff;}#sk-container-id-3 div.sk-toggleable__content pre {margin: 0.2em;color: black;border-radius: 0.25em;background-color: #f0f8ff;}#sk-container-id-3 input.sk-toggleable__control:checked~div.sk-toggleable__content {max-height: 200px;max-width: 100%;overflow: auto;}#sk-container-id-3 input.sk-toggleable__control:checked~label.sk-toggleable__label-arrow:before {content: \"▾\";}#sk-container-id-3 div.sk-estimator input.sk-toggleable__control:checked~label.sk-toggleable__label {background-color: #d4ebff;}#sk-container-id-3 div.sk-label input.sk-toggleable__control:checked~label.sk-toggleable__label {background-color: #d4ebff;}#sk-container-id-3 input.sk-hidden--visually {border: 0;clip: rect(1px 1px 1px 1px);clip: rect(1px, 1px, 1px, 1px);height: 1px;margin: -1px;overflow: hidden;padding: 0;position: absolute;width: 1px;}#sk-container-id-3 div.sk-estimator {font-family: monospace;background-color: #f0f8ff;border: 1px dotted black;border-radius: 0.25em;box-sizing: border-box;margin-bottom: 0.5em;}#sk-container-id-3 div.sk-estimator:hover {background-color: #d4ebff;}#sk-container-id-3 div.sk-parallel-item::after {content: \"\";width: 100%;border-bottom: 1px solid gray;flex-grow: 1;}#sk-container-id-3 div.sk-label:hover label.sk-toggleable__label {background-color: #d4ebff;}#sk-container-id-3 div.sk-serial::before {content: \"\";position: absolute;border-left: 1px solid gray;box-sizing: border-box;top: 0;bottom: 0;left: 50%;z-index: 0;}#sk-container-id-3 div.sk-serial {display: flex;flex-direction: column;align-items: center;background-color: white;padding-right: 0.2em;padding-left: 0.2em;position: relative;}#sk-container-id-3 div.sk-item {position: relative;z-index: 1;}#sk-container-id-3 div.sk-parallel {display: flex;align-items: stretch;justify-content: center;background-color: white;position: relative;}#sk-container-id-3 div.sk-item::before, #sk-container-id-3 div.sk-parallel-item::before {content: \"\";position: absolute;border-left: 1px solid gray;box-sizing: border-box;top: 0;bottom: 0;left: 50%;z-index: -1;}#sk-container-id-3 div.sk-parallel-item {display: flex;flex-direction: column;z-index: 1;position: relative;background-color: white;}#sk-container-id-3 div.sk-parallel-item:first-child::after {align-self: flex-end;width: 50%;}#sk-container-id-3 div.sk-parallel-item:last-child::after {align-self: flex-start;width: 50%;}#sk-container-id-3 div.sk-parallel-item:only-child::after {width: 0;}#sk-container-id-3 div.sk-dashed-wrapped {border: 1px dashed gray;margin: 0 0.4em 0.5em 0.4em;box-sizing: border-box;padding-bottom: 0.4em;background-color: white;}#sk-container-id-3 div.sk-label label {font-family: monospace;font-weight: bold;display: inline-block;line-height: 1.2em;}#sk-container-id-3 div.sk-label-container {text-align: center;}#sk-container-id-3 div.sk-container {/* jupyter's `normalize.less` sets `[hidden] { display: none; }` but bootstrap.min.css set `[hidden] { display: none !important; }` so we also need the `!important` here to be able to override the default hidden behavior on the sphinx rendered scikit-learn.org. See: https://github.com/scikit-learn/scikit-learn/issues/21755 */display: inline-block !important;position: relative;}#sk-container-id-3 div.sk-text-repr-fallback {display: none;}</style><div id=\"sk-container-id-3\" class=\"sk-top-container\"><div class=\"sk-text-repr-fallback\"><pre>LogisticRegression()</pre><b>In a Jupyter environment, please rerun this cell to show the HTML representation or trust the notebook. <br />On GitHub, the HTML representation is unable to render, please try loading this page with nbviewer.org.</b></div><div class=\"sk-container\" hidden><div class=\"sk-item\"><div class=\"sk-estimator sk-toggleable\"><input class=\"sk-toggleable__control sk-hidden--visually\" id=\"sk-estimator-id-3\" type=\"checkbox\" checked><label for=\"sk-estimator-id-3\" class=\"sk-toggleable__label sk-toggleable__label-arrow\">LogisticRegression</label><div class=\"sk-toggleable__content\"><pre>LogisticRegression()</pre></div></div></div></div></div>"
            ],
            "text/plain": [
              "LogisticRegression()"
            ]
          },
          "execution_count": 89,
          "metadata": {},
          "output_type": "execute_result"
        }
      ],
      "source": [
        "from sklearn.linear_model import LogisticRegression\n",
        "from sklearn.model_selection import train_test_split\n",
        "from sklearn import preprocessing\n",
        "from collections import defaultdict\n",
        "from sklearn.metrics import accuracy_score, precision_score, recall_score, f1_score, confusion_matrix\n",
        "\n",
        "FEATURES_CLASSIFICATION = [\"age_cat\", \"race\", \"sex\", \"priors_count\", \"c_charge_degree\"]\n",
        "CONT_VARIABLES = [\"priors_count\"]\n",
        "CLASS_FEATURE = \"two_year_recid\"\n",
        "SENSITIVE_ATTRS = [\"race\"]\n",
        "\n",
        "\n",
        "y = data[CLASS_FEATURE]\n",
        "X = np.array([]).reshape(len(y), 0)\n",
        "x_control = defaultdict(list)\n",
        "\n",
        "for attr in FEATURES_CLASSIFICATION:\n",
        "    vals = data[attr]\n",
        "    if attr in CONT_VARIABLES:\n",
        "        vals = [float(v) for v in vals]\n",
        "        vals = preprocessing.scale(vals)\n",
        "        vals = np.reshape(vals, (len(y), -1))\n",
        "\n",
        "    else:\n",
        "        enc = preprocessing.LabelBinarizer()\n",
        "        enc.fit(vals)\n",
        "        vals = enc.transform(vals)\n",
        "\n",
        "\n",
        "    X = np.hstack((X, vals))\n",
        "\n",
        "\n",
        "\n",
        "ind = data[\"race\"]==\"African-American\"\n",
        "X_b = X[ind]\n",
        "y_b = y[ind]\n",
        "ind = data[\"race\"]!=\"African-American\"\n",
        "X_w = X[ind]\n",
        "y_w = y[ind]\n",
        "ind = [data[\"race\"][i]!= \"Caucasian\" and data[\"race\"][i] != \"African-American\" for i in range(len(y))]\n",
        "X_n = X[ind]\n",
        "y_n = y[ind]\n",
        "\n",
        "X_train_b, X_test_b, y_train_b, y_test_b = train_test_split(X_b, y_b, test_size=0.3, random_state=1234)\n",
        "X_train_w, X_test_w, y_train_w, y_test_w = train_test_split(X_w, y_w, test_size=0.3, random_state=5678)\n",
        "X_train_n, X_test_n, y_train_n, y_test_n = train_test_split(X_n, y_n, test_size=0.3, random_state=9012)\n",
        "\n",
        "X_train = np.vstack((X_train_b, X_train_w, X_train_n))\n",
        "y_train = np.hstack((y_train_b, y_train_w, y_train_n))\n",
        "X_test = np.vstack((X_test_b, X_test_w, X_test_n))\n",
        "y_test = np.hstack((y_test_b, y_test_w, y_test_n))\n",
        "\n",
        "\n",
        "model = LogisticRegression(solver='lbfgs')\n",
        "model.fit(X_train, y_train)"
      ]
    },
    {
      "cell_type": "markdown",
      "metadata": {
        "id": "8AVVuIW1dYqv"
      },
      "source": [
        "We can then compute the model accuracy. Compare to the COMPAS accuracy."
      ]
    },
    {
      "cell_type": "code",
      "execution_count": 90,
      "metadata": {
        "colab": {
          "base_uri": "https://localhost:8080/"
        },
        "id": "mjf8KtBJdYqw",
        "outputId": "4afa1fcf-06d9-4766-9088-3f9c5997cb07"
      },
      "outputs": [
        {
          "name": "stdout",
          "output_type": "stream",
          "text": [
            "Accuracy: 0.6559849198868991\n"
          ]
        }
      ],
      "source": [
        "from sklearn.metrics import accuracy_score\n",
        "\n",
        "y_pred = model.predict(X_test)\n",
        "print('Accuracy:', accuracy_score(y_test, y_pred))"
      ]
    },
    {
      "cell_type": "markdown",
      "metadata": {
        "id": "R36pV5VZfTXh"
      },
      "source": [
        "The accuracy doesn't show any revelant information about the inegality accross the group"
      ]
    },
    {
      "cell_type": "markdown",
      "metadata": {
        "id": "3vVl9-CXdYqw"
      },
      "source": [
        "We can also plot the ROC curve for the model on the global population."
      ]
    },
    {
      "cell_type": "code",
      "execution_count": 91,
      "metadata": {
        "colab": {
          "base_uri": "https://localhost:8080/",
          "height": 472
        },
        "id": "jYGhwehGdYqy",
        "outputId": "c63193e5-c65b-40fb-e918-77c1ce0664f2"
      },
      "outputs": [
        {
          "data": {
            "image/png": "[encoded data removed]",
            "text/plain": [
              "<Figure size 640x480 with 1 Axes>"
            ]
          },
          "metadata": {},
          "output_type": "display_data"
        }
      ],
      "source": [
        "from sklearn import metrics\n",
        "from matplotlib import pyplot as plt\n",
        "\n",
        "scores = model.predict_proba(X_test)\n",
        "fpr, tpr, thresholds = metrics.roc_curve(y_test, scores[:,1])\n",
        "\n",
        "plt.plot(fpr, tpr)\n",
        "\n",
        "plt.title('ROC overall population')\n",
        "plt.xlabel(\"FPR\")\n",
        "plt.ylabel(\"TPR\")\n",
        "plt.show()\n"
      ]
    },
    {
      "cell_type": "markdown",
      "metadata": {
        "id": "9bktF11idYqy"
      },
      "source": [
        "let's Plot the ROC curve for Blacks and Whites in two separate curves (in the same plot)"
      ]
    },
    {
      "cell_type": "code",
      "execution_count": 92,
      "metadata": {
        "colab": {
          "base_uri": "https://localhost:8080/",
          "height": 472
        },
        "id": "L9HWIOWPdYqz",
        "outputId": "95875aa4-57ce-4e5b-8811-5c44d2c7f195"
      },
      "outputs": [
        {
          "data": {
            "image/png": "[encoded data removed]",
            "text/plain": [
              "<Figure size 640x480 with 1 Axes>"
            ]
          },
          "metadata": {},
          "output_type": "display_data"
        }
      ],
      "source": [
        "# TODO: Insert your code below this line\n",
        "# <!--\n",
        "scores = model.predict_proba(X_test_b)\n",
        "fpr, tpr, thresholds_b = metrics.roc_curve(y_test_b, scores[:,1])\n",
        "plt.plot(fpr, tpr, label='Black defendants')\n",
        "\n",
        "scores = model.predict_proba(X_test_w)\n",
        "fpr, tpr, thresholds_w = metrics.roc_curve(y_test_w, scores[:,1])\n",
        "plt.plot(fpr, tpr, label='White defendants')\n",
        "\n",
        "plt.title('ROC')\n",
        "plt.xlabel(\"FPR\")\n",
        "plt.ylabel(\"TPR\")\n",
        "plt.legend(loc='lower center', bbox_to_anchor=(0.75, 0.0), ncol=1, fancybox=True, shadow=True)\n",
        "plt.show()\n",
        "# -->"
      ]
    },
    {
      "cell_type": "markdown",
      "metadata": {
        "id": "QIKp4lZbCknj"
      },
      "source": [
        "##COMMENT\n",
        "\n",
        "We observe that the Logistic Regression classifier produces a very similar ROC curve for both whites and blacks, and therefore seems to not be particularly biased."
      ]
    },
    {
      "cell_type": "markdown",
      "metadata": {
        "id": "3WhamTQ-GiN9"
      },
      "source": [
        "**threshold choice**"
      ]
    },
    {
      "cell_type": "markdown",
      "metadata": {
        "id": "34DEe9JUdYqz"
      },
      "source": [
        "We can finally check the fairness of this simple logistic regression, when choosing an arbitrary threshold common to the two groups.\n",
        "\n",
        " For choosing an appropriate threshold_common, we tested with different value,\n",
        " And we take the threshold_common with the bigger accuracy\n",
        "\n",
        " 0.1 : 0.45223961144090663\n",
        "\n",
        " 0.2 : 0.49487317862924984\n",
        "\n",
        " 0.3 : 0.5693470048569886\n",
        "\n",
        " 0.4 : 0.6475984889368591\n",
        "\n",
        " 0.5 : 0.6540744738262277\n",
        "\n",
        " 0.6 : 0.6330275229357798\n",
        "\n",
        " 0.7 : 0.6011872638963842\n",
        "\n",
        " 0.8 : 0.5801403130059363\n",
        "\n",
        " 0.9 : 0.5639503507825149\n",
        "\n",
        " So we take threshold_common = 0.5.\n",
        " But here we just look at the accuracy, we can also look at the FNP or FNP.\n",
        "\n",
        "\n",
        "\n",
        "<span style=\"color:red\">TODO</span>: Compute the predictions for a common threshold (threshold_common), then compute the PPV, TPR, FPR (you can use the print_metrics function from above). Comment."
      ]
    },
    {
      "cell_type": "code",
      "execution_count": 93,
      "metadata": {
        "colab": {
          "base_uri": "https://localhost:8080/"
        },
        "id": "1BNcZyBEdYqz",
        "outputId": "3e983e99-5ae0-4ac0-ed65-60d376ee99f7"
      },
      "outputs": [
        {
          "name": "stdout",
          "output_type": "stream",
          "text": [
            "\n",
            "LOGISTIC REGRESSION METRICS\n",
            "-----------black\n",
            "actual   False  True \n",
            "guessed              \n",
            "False      300    176\n",
            "True       157    320\n",
            "Accuracy:  0.6505771248688352\n",
            "\n",
            "PPV:  0.6708595387840671\n",
            "FPR:  0.3435448577680525\n",
            "FNR:  0.3548387096774194\n",
            "\n",
            "-----------white\n",
            "actual   False  True \n",
            "guessed              \n",
            "False      475    225\n",
            "True        77    123\n",
            "\n",
            "Accuracy:  0.6644444444444444\n",
            "\n",
            "PPV:  0.615\n",
            "FPR:  0.13949275362318841\n",
            "FNR:  0.646551724137931\n",
            "\n",
            "-----------difference between groups----------\n",
            "Accuracy:  0.01386731957560916\n",
            "Treatment equality 0.5498232323232324\n",
            "PPV difference:  0.05585953878406713\n",
            "FPR difference:  0.20405210414486408\n",
            "FNR difference:  0.2917130144605117\n",
            "\n",
            "----------------------------------------------------------------------------------\n",
            "\n",
            "COMPAS METRICS:\n",
            "-----------black\n",
            "actual   False  True \n",
            "guessed              \n",
            "False      873    473\n",
            "True       641   1188\n",
            "Accuracy:  0.6491338582677165\n",
            "\n",
            "PPV:  0.6495352651722253\n",
            "FPR:  0.4233817701453104\n",
            "FNR:  0.2847682119205298\n",
            "\n",
            "-----------white\n",
            "actual   False  True \n",
            "guessed              \n",
            "False     1472    603\n",
            "True       377    545\n",
            "\n",
            "Accuracy:  0.6730063396730064\n",
            "\n",
            "PPV:  0.5911062906724512\n",
            "FPR:  0.2038939967550027\n",
            "FNR:  0.5252613240418118\n",
            "\n",
            "-----------difference between groups----------\n",
            "Accuracy:  0.023872481405289858\n",
            "Treatment equality 0.7299724071678254\n",
            "PPV difference:  0.05842897449977402\n",
            "FPR difference:  0.21948777339030773\n",
            "FNR difference:  0.240493112121282\n",
            "\n"
          ]
        }
      ],
      "source": [
        "threshold_common = 0.5\n",
        "\n",
        "y_pred_b = (model.predict_proba(X_test_b)[:,1] >= threshold_common).astype(int)\n",
        "y_pred_w = (model.predict_proba(X_test_w)[:,1] >= threshold_common).astype(int)\n",
        "print(\"\\nLOGISTIC REGRESSION METRICS\")\n",
        "#print('------------White--------------------------------')\n",
        "print_metrics(y_pred_b.astype(bool), y_test_b.astype(bool),y_pred_w.astype(bool), y_test_w.astype(bool) )\n",
        "\n",
        "\n",
        "print(\"----------------------------------------------------------------------------------\\n\")\n",
        "print('COMPAS METRICS:')\n",
        "#print('------------------white---------------------')\n",
        "sub = df[df.race != 'African-American']\n",
        "sub1 = df[df.race == 'African-American']\n",
        "print_metrics(sub1.guessed_recid, sub1.actual_recid, sub.guessed_recid, sub.actual_recid)\n",
        "\n"
      ]
    },
    {
      "cell_type": "code",
      "execution_count": 94,
      "metadata": {
        "id": "tT8pzPXn4LMX"
      },
      "outputs": [],
      "source": [
        "# RECAP of the different accuracy :\n",
        "\n",
        "#                           Logistic Reg                   COMPAS               Differences <\n",
        "# African American :        0.6506                        0.6491                0.015%\n",
        "# Others :                  0.6644                        0.6730                0.24%\n",
        "\n",
        "\n",
        "# RECAP of the different FPR :\n",
        "\n",
        "#                           Logistic Reg                   COMPAS               Differences <\n",
        "# African-American :        0.3435                        0.4234                7.99%\n",
        "# Others :                  0.1395                        0.2039                6.43%\n",
        "\n",
        "\n",
        "\n",
        "# RECAP of the different FNR :\n",
        "\n",
        "#                           Logistic Reg                   COMPAS               Differences <\n",
        "# African-American :        0.3548                        0.2848                7%\n",
        "# Others :                  0.6466                        0.5253                12.12%\n",
        "\n",
        "\n",
        "\n",
        "\n",
        "# we can see that in both classifier we have the same conclusion: the FPR for African-American is greater than the Others\n",
        "# and the FNR for African-American is lower than the Others\n",
        "# thus it's not not fair yet"
      ]
    },
    {
      "cell_type": "markdown",
      "metadata": {
        "id": "7Me1I0W6kNVk"
      },
      "source": [
        "#Other classifier"
      ]
    },
    {
      "cell_type": "code",
      "execution_count": 95,
      "metadata": {
        "colab": {
          "base_uri": "https://localhost:8080/"
        },
        "id": "O9mE6rqpkSSs",
        "outputId": "4cbaf574-d429-4c6c-ddb5-ed69be632d21"
      },
      "outputs": [
        {
          "name": "stdout",
          "output_type": "stream",
          "text": [
            "Accuracy: 0.61875589066918\n",
            "\n",
            " SUPPORT VECTOR MACHINE\n",
            "-----------black\n",
            "actual   False  True \n",
            "guessed              \n",
            "False      345    231\n",
            "True       112    265\n",
            "Accuracy:  0.640083945435467\n",
            "\n",
            "PPV:  0.7029177718832891\n",
            "FPR:  0.24507658643326038\n",
            "FNR:  0.4657258064516129\n",
            "\n",
            "-----------white\n",
            "actual   False  True \n",
            "guessed              \n",
            "False      506    249\n",
            "True        46     99\n",
            "\n",
            "Accuracy:  0.6722222222222223\n",
            "\n",
            "PPV:  0.6827586206896552\n",
            "FPR:  0.08333333333333333\n",
            "FNR:  0.7155172413793104\n",
            "\n",
            "-----------difference between groups----------\n",
            "Accuracy:  0.03213827678675529\n",
            "Treatment equality 0.3001095290251917\n",
            "PPV difference:  0.020159151193633873\n",
            "FPR difference:  0.16174325309992704\n",
            "FNR difference:  0.2497914349276975\n",
            "\n"
          ]
        }
      ],
      "source": [
        "from sklearn import svm\n",
        "svm_class = svm.SVC(gamma=0.001,  probability=True)\n",
        "\n",
        "svm_class.fit(X_train, y_train)\n",
        "\n",
        "svm_y_pred = svm_class.predict(X_test)\n",
        "print('Accuracy:', accuracy_score(y_test, svm_y_pred))\n",
        "\n",
        "\n",
        "svm_y_pred_b = (svm_class.predict_proba(X_test_b)[:,1] >= threshold_common).astype(int)\n",
        "svm_y_pred_w = (svm_class.predict_proba(X_test_w)[:,1] >= threshold_common).astype(int)\n",
        "print(\"\\n SUPPORT VECTOR MACHINE\")\n",
        "\n",
        "print_metrics(svm_y_pred_b.astype(bool), y_test_b.astype(bool), svm_y_pred_w.astype(bool), y_test_w.astype(bool))\n",
        "\n"
      ]
    },
    {
      "cell_type": "code",
      "execution_count": 96,
      "metadata": {
        "id": "h7Ws6wWC9-nR"
      },
      "outputs": [],
      "source": [
        "# RECAP of the different accuracy :\n",
        "\n",
        "#                             COMPAS                SVM\n",
        "# African American :         0.6491               0.6422\n",
        "# Others :                   0.6730               0.6926\n",
        "\n",
        "\n",
        "# RECAP of the different FPR :\n",
        "\n",
        "#                             COMPAS                SVM\n",
        "# African-American :         0.4234               0.2495\n",
        "# Others :                   0.2039               0.0937\n",
        "\n",
        "\n",
        "\n",
        "# RECAP of the different FNR :\n",
        "\n",
        "#                            COMPAS                SVM\n",
        "# African-American :        0.2848               0.4577\n",
        "# Others :                  0.5253               0.6653\n",
        "\n",
        "\n",
        "\n",
        "\n",
        "#we still have the same observations with the Logistic Reg one"
      ]
    },
    {
      "cell_type": "markdown",
      "metadata": {
        "id": "O1zXaFfkoP6k"
      },
      "source": [
        "**TODO** COMPARE with COMPAS and comment"
      ]
    },
    {
      "cell_type": "markdown",
      "metadata": {
        "id": "2DnoNcVvgS_U"
      },
      "source": [
        "##Random forest Classifier"
      ]
    },
    {
      "cell_type": "code",
      "execution_count": 97,
      "metadata": {
        "colab": {
          "base_uri": "https://localhost:8080/"
        },
        "id": "IAXD_K_ZfP7Y",
        "outputId": "2c8e7a88-7784-43a1-9b53-cb537cc7a188"
      },
      "outputs": [
        {
          "name": "stdout",
          "output_type": "stream",
          "text": [
            "Accuracy : 0.6597549481621112\n"
          ]
        }
      ],
      "source": [
        "#Random Forest classifier\n",
        "from sklearn.ensemble import RandomForestClassifier\n",
        "random_forest_model=RandomForestClassifier()\n",
        "random_forest_model.fit(X_train,y_train)\n",
        "y_pred=random_forest_model.predict(X_test)\n",
        "print(\"Accuracy :\",accuracy_score(y_test,y_pred))\n",
        "\n",
        "\n"
      ]
    },
    {
      "cell_type": "code",
      "execution_count": 98,
      "metadata": {
        "colab": {
          "base_uri": "https://localhost:8080/"
        },
        "id": "HuhSkqMMhWWl",
        "outputId": "f69cf353-60f2-47bd-f1c1-140c1b068335"
      },
      "outputs": [
        {
          "name": "stdout",
          "output_type": "stream",
          "text": [
            "\n",
            " RANDOM FOREST CLASSIFIER\n",
            "\n",
            "-----------black\n",
            "actual   False  True \n",
            "guessed              \n",
            "False      301    173\n",
            "True       156    323\n",
            "Accuracy:  0.6547743966421826\n",
            "\n",
            "PPV:  0.6743215031315241\n",
            "FPR:  0.3413566739606127\n",
            "FNR:  0.3487903225806452\n",
            "\n",
            "-----------white\n",
            "actual   False  True \n",
            "guessed              \n",
            "False      442    205\n",
            "True       110    143\n",
            "\n",
            "Accuracy:  0.65\n",
            "\n",
            "PPV:  0.5652173913043478\n",
            "FPR:  0.19927536231884058\n",
            "FNR:  0.5890804597701149\n",
            "\n",
            "-----------difference between groups----------\n",
            "Accuracy:  0.004774396642182599\n",
            "Treatment equality 0.3651487381925842\n",
            "PPV difference:  0.10910411182717628\n",
            "FPR difference:  0.14208131164177212\n",
            "FNR difference:  0.24029013718946973\n",
            "\n"
          ]
        }
      ],
      "source": [
        "rf_y_pred_b = (random_forest_model.predict_proba(X_test_b)[:,1] >= threshold_common).astype(int)\n",
        "rf_y_pred_w = (random_forest_model.predict_proba(X_test_w)[:,1] >= threshold_common).astype(int)\n",
        "print(\"\\n RANDOM FOREST CLASSIFIER\")\n",
        "print(\"\")\n",
        "\n",
        "print_metrics(rf_y_pred_b.astype(bool), y_test_b.astype(bool), rf_y_pred_w.astype(bool), y_test_w.astype(bool))"
      ]
    },
    {
      "cell_type": "code",
      "execution_count": 99,
      "metadata": {
        "id": "dOqaABOyQLka"
      },
      "outputs": [],
      "source": [
        "# RECAP of the different accuracy :\n",
        "\n",
        "#                               COMPAS                        Random Forest\n",
        "# African American :        0.6491                           0.6537\n",
        "# Caucasian :               0.6730                           0.6577\n",
        "\n",
        "\n",
        "# RECAP of the different FPR :\n",
        "\n",
        "#                               COMPAS                        Random Forest\n",
        "# African-American :        0.4234                           0.3435\n",
        "# Caucasian :               0.2039                           0.1823\n",
        "\n",
        "\n",
        "\n",
        "# RECAP of the different FNR :\n",
        "\n",
        "#                             COMPAS                          Random Forest\n",
        "# African-American :      0.2848                             0.3488\n",
        "# Caucasian :             0.5253                             0.6102\n",
        "\n",
        "#same Observations with the previous Classifiers"
      ]
    },
    {
      "cell_type": "markdown",
      "metadata": {
        "id": "A4qDqhMjQ0RH"
      },
      "source": [
        "#GENERAL COMMENT"
      ]
    },
    {
      "cell_type": "code",
      "execution_count": 100,
      "metadata": {
        "id": "VOhn9UTIQK-o"
      },
      "outputs": [],
      "source": [
        "# RECAP of the different accuracy :\n",
        "\n",
        "#                              Logistic Reg                   COMPAS               SVM               Random Forest               Differences <\n",
        "# African American :        0.6506                        0.6491               0.6422               0.6537                    0.0111%\n",
        "# Caucasian :               0.6644                        0.6730               0.6926               0.6577                    0.0149%\n",
        "\n",
        "\n",
        "# RECAP of the different FPR :\n",
        "\n",
        "#                              Logistic Reg                   COMPAS               SVM               Random Forest               Differences <\n",
        "# African-American :        0.3435                        0.4234               0.2495               0.3435                      0.0%\n",
        "# Caucasian :               0.1395                        0.2039               0.0937               0.1823                    0.0428%\n",
        "\n",
        "\n",
        "\n",
        "# RECAP of the different FNR :\n",
        "\n",
        "#                              Logistic Reg                   COMPAS               SVM               Random Forest               Differences <\n",
        "# African-American :        0.3548                        0.2848               0.4577               0.3488                    0.006%\n",
        "# Caucasian :               0.6466                        0.5253               0.6653               0.6102                    0.055%\n",
        "\n",
        "\n",
        "#\n",
        "#Accuracy Comparison: Among the classifiers, SVM shows the highest accuracy for both African American and Others groups,\n",
        "#closely followed by Random Forest. However, the differences in accuracy between the classifiers are relatively small.\n",
        "\n",
        "#False Positive Rate (FPR): Logistic Regression and Random Forest exhibit similar FPR values for African American groups,\n",
        "#while SVM shows the lowest FPR. For Others groups, SVM has the lowest FPR, followed by Random Forest. COMPAS, however,\n",
        "#has notably higher FPR values for both racial groups.\n",
        "\n",
        "#False Negative Rate (FNR): Logistic Regression and Random Forest perform similarly in terms of FNR for both racial groups.\n",
        "#COMPAS shows the lowest FNR for African American groups but the highest for Others groups. SVM exhibits the highest FNR for\n",
        "#African-American groups.\n",
        "\n",
        "#Fairness and Treatment Equality: While all classifiers show differences in fairness measures between racial groups, SVM demonstrates\n",
        "#relatively better treatment equality compared to the other classifiers. Random Forest shows the least difference in fairness measures\n",
        "#between racial groups wich is our goal."
      ]
    },
    {
      "cell_type": "markdown",
      "metadata": {
        "id": "WhU_E7NTx7T1"
      },
      "source": [
        "# which Method would we recommend??\n",
        "\n",
        "\n",
        "Based on the analysis of fairness measures across different machine learning models, we would recommend the Random Forest classifier. This recommendation is made because Random Forest showed the least difference in fairness measures between racial groups compared to other classifiers such as Logistic Regression and Support Vector Machine"
      ]
    },
    {
      "cell_type": "markdown",
      "metadata": {
        "id": "1oMOm6NAoaxe"
      },
      "source": [
        "#Which features will we use ??\n",
        "**ANSWER**:\n",
        "\n",
        " Relevant Features: Choose features that are directly related to the prediction task and are known to have a legitimate impact on the outcome. For example, in predicting recidivism risk, features like prior criminal history, age, and offense type may be relevant.\n",
        "\n",
        "Non-sensitive Features: Avoid using features that are closely associated with protected attributes such as race, gender. Using sensitive attributes directly can lead to biased predictions and unfair treatment of certain groups.\n",
        "\n",
        "Balanced Representation: Ensure that the dataset used for training the classifier contains a balanced representation of different groups and demographics. Imbalanced datasets can lead to biased models, especially if one group is underrepresented for example Native-American."
      ]
    },
    {
      "cell_type": "markdown",
      "metadata": {
        "id": "i07QMXXZV0Qz"
      },
      "source": [
        "#meaningful notion of fairness\n",
        "\n",
        "- Statistical parity between different subgroups. The probability to be classified positive should be equal for the considered groups. Formula: (TP+FP)/total\n",
        "\n",
        "- Equality of opportunity: similar members in each group should be treated similarly. Therefore, the two groups should have a similar TPR.\n",
        "- Treatment Equality: For each group, the ratio between FP and FN should be equal. We use the ratio FP/FN, that means a low value represents a situation in which an individual is less likely to be classified false positive than false negative. This is something we want, as incorrectly classifying someone to be recidivist is undesirable."
      ]
    },
    {
      "cell_type": "markdown",
      "metadata": {
        "id": "LIXGpnryetzc"
      },
      "source": [
        "# Fairness classifier"
      ]
    },
    {
      "cell_type": "markdown",
      "metadata": {
        "id": "KokhCQBMqf_h"
      },
      "source": [
        "##Describe the different methods to obtain a fair classifier\n",
        "\n",
        "\n",
        "**Pre-processing Techniques**: These methods involve modifying the dataset before training the classifier.\n",
        "\n",
        "**In-processing Techniques**: These methods integrate fairness constraints directly into the model training process.\n",
        "\n",
        "**Post-processing Techniques**: These methods adjust the output of a trained classifier to ensure fairness without retraining the model.\n",
        "\n",
        "\n",
        "In the context of the COMPAS dataset, these methods could be applied to address biases in recidivism predictions based on race. For example:\n",
        "\n",
        "Pre-processing techniques could be used to balance the dataset by adjusting the weights of instances or by oversampling and undersampling racial groups.\n",
        "\n",
        "In-processing techniques could involve training a model with fairness constraints to ensure that predictions are equally accurate across different racial groups.\n",
        "\n",
        "Post-processing techniques could adjust decision thresholds or incorporate a reject option to ensure fairness in classification outcomes."
      ]
    },
    {
      "cell_type": "markdown",
      "metadata": {
        "id": "bvtK5dCZq7g1"
      },
      "source": [
        "#FAIR CLASSIFIER IMPLEMENTATION"
      ]
    },
    {
      "cell_type": "markdown",
      "metadata": {
        "id": "Yk5QVjF0IC4w"
      },
      "source": [
        "We tried to implement a fair classifier with all method but at each tentative like demographic parity, ExponetielGradient, equalizedOdds, there are error in our implementation. the only one that we didn't expect to work is the one that works and satisfies the fairness notion."
      ]
    },
    {
      "cell_type": "markdown",
      "metadata": {
        "id": "EHK4vaHdrGzz"
      },
      "source": [
        "**we decide to use the method of Post-proccessing to try to implement a fair classifier**\n",
        "\n",
        "Threshold adjustement\n",
        "We read on the internet regading the Compas project, that using different thresholds could lead to better fairness. Therefore, we decided to assign a separate threshold to each group and to use Random Forest Classifier since it gave us a good performance compred to Logistic regression and SVM."
      ]
    },
    {
      "cell_type": "code",
      "execution_count": 139,
      "metadata": {
        "colab": {
          "base_uri": "https://localhost:8080/"
        },
        "id": "izYMIo7meNy3",
        "outputId": "ecdc2b76-6b45-40e5-9bdb-82e3bcdf4282"
      },
      "outputs": [
        {
          "name": "stdout",
          "output_type": "stream",
          "text": [
            "------------------------Implemented Fair Classifier\n",
            "-----------black\n",
            "actual   False  True \n",
            "guessed              \n",
            "False      311    308\n",
            "True       163    150\n",
            "Accuracy:  0.4946351931330472\n",
            "\n",
            "PPV:  0.4792332268370607\n",
            "FPR:  0.3438818565400844\n",
            "FNR:  0.6724890829694323\n",
            "\n",
            "-----------white\n",
            "actual   False  True \n",
            "guessed              \n",
            "False      446    365\n",
            "True       228    186\n",
            "\n",
            "Accuracy:  0.5159183673469387\n",
            "\n",
            "PPV:  0.4492753623188406\n",
            "FPR:  0.33827893175074186\n",
            "FNR:  0.662431941923775\n",
            "\n",
            "-----------difference between groups----------\n",
            "Accuracy:  0.02128317421389153\n",
            "Treatment equality 0.09543675502579607\n",
            "PPV difference:  0.029957864518220134\n",
            "FPR difference:  0.005602924789342545\n",
            "FNR difference:  0.010057141045657358\n",
            "\n"
          ]
        }
      ],
      "source": [
        "target = df.two_year_recid\n",
        "\n",
        "Rf = RandomForestClassifier()\n",
        "\n",
        "Rf.fit(X_train,y_train)\n",
        "\n",
        "y_pred = Rf.predict(X_test)\n",
        "\n",
        "guessed = pd.Series(y_pred)==1\n",
        "\n",
        "actual = target ==1\n",
        "\n",
        "proba = Rf.predict_proba(X_test)[:,1]\n",
        "\n",
        "guess = pd.Series(proba > 0.495)\n",
        "\n",
        "guessed = guess.loc[df.race=='African-American'] = pd.Series(proba > 0.57)\n",
        "\n",
        "subset1 = df.race != 'Caucasian'\n",
        "\n",
        "subset = df.race == 'African-American'\n",
        "\n",
        "print(\"------------------------Implemented Fair Classifier\")\n",
        "\n",
        "print_metrics(guessed[subset], actual[subset],guessed[subset1], actual[subset1])"
      ]
    },
    {
      "cell_type": "markdown",
      "metadata": {
        "id": "V_RAThWPuUbu"
      },
      "source": [
        "#COMMENT\n",
        "\n",
        "From these results, we can see that the difference between the False Positive Rates (FPR) and the False Negative Rates (FNR) of the different groups is almost negligible. This suggests that the classifier is almost fair."
      ]
    },
    {
      "cell_type": "markdown",
      "metadata": {
        "id": "UzSbyyAmuLze"
      },
      "source": [
        "#COMPAS Score"
      ]
    },
    {
      "cell_type": "code",
      "execution_count": 105,
      "metadata": {
        "colab": {
          "base_uri": "https://localhost:8080/"
        },
        "id": "1RWUpMkkuJBm",
        "outputId": "5f83cff2-da4b-44c7-8aee-38905e318f31"
      },
      "outputs": [
        {
          "name": "stdout",
          "output_type": "stream",
          "text": [
            "--------------------------COMPAS---------------------------\n",
            "-----------black\n",
            "actual   False  True \n",
            "guessed              \n",
            "False      873    473\n",
            "True       641   1188\n",
            "Accuracy:  0.6491338582677165\n",
            "\n",
            "PPV:  0.6495352651722253\n",
            "FPR:  0.4233817701453104\n",
            "FNR:  0.2847682119205298\n",
            "\n",
            "-----------white\n",
            "actual   False  True \n",
            "guessed              \n",
            "False     1472    603\n",
            "True       377    545\n",
            "\n",
            "Accuracy:  0.6730063396730064\n",
            "\n",
            "PPV:  0.5911062906724512\n",
            "FPR:  0.2038939967550027\n",
            "FNR:  0.5252613240418118\n",
            "\n",
            "-----------difference between groups----------\n",
            "Accuracy:  0.023872481405289858\n",
            "Treatment equality 0.7299724071678254\n",
            "PPV difference:  0.05842897449977402\n",
            "FPR difference:  0.21948777339030773\n",
            "FNR difference:  0.240493112121282\n",
            "\n"
          ]
        }
      ],
      "source": [
        "print(\"--------------------------COMPAS---------------------------\")\n",
        "print_metrics(Subset_b.guessed_recid, Subset_b.actual_recid, Subset_w.guessed_recid, Subset_w.actual_recid)\n"
      ]
    },
    {
      "cell_type": "markdown",
      "metadata": {
        "id": "5ZpzUHmG6fwo"
      },
      "source": [
        "# COMPARAISON between COMPAS Score and Implemented fair clasiifier\n",
        "\n",
        "\n"
      ]
    },
    {
      "cell_type": "code",
      "execution_count": 140,
      "metadata": {
        "id": "R_Vdtq7l4o2T"
      },
      "outputs": [],
      "source": [
        "#                                            COMPAS Score                                                     Implemented Fair Classifier\n",
        "\n",
        "#                               Accuracy       PPV         FPR          FNR                                Accuracy       PPV       FPR        FNR\n",
        "\n",
        "#  Black group                   0.6491       0.6495      0.4233       0.284                                0.494       0.479     0.343      0.672\n",
        "\n",
        "#  White group                   0.6730       0.5911      0.2038       0.525                                0.515       0.449     0.338       0.662\n",
        "\n",
        "#\n",
        "#Difference                       0.0238       0.058      0.219       0.240                                 0.0075      0.0430    0.0077     0.0032\n",
        "\n",
        "#Treatment equality                   0.7299724071678254                                                                     0.09543675502579607\n",
        "\n",
        "\n",
        "#In conclusion, the fair classifier has effectively equalized the False Positive Rate (FPR) and False Negative Rate (FNR) for both racial groups. However, this improvement in fairness\n",
        "# comes at the cost of reduced accuracy compared to the COMPAS classifier for both groups.\n",
        "#While the fair classifier exhibits better parity in treatment across racial groups, there is a notable decrease in overall predictive performance. This trade-off suggests that further\n",
        "#refinement is necessary to balance fairness and accuracy. Given more time, additional efforts could focus on optimizing the classifier to improve accuracy while maintaining equal treatment\n",
        "#between groups.\n"
      ]
    }
  ],
  "metadata": {
    "colab": {
      "provenance": []
    },
    "kernelspec": {
      "display_name": "Python 3",
      "language": "python",
      "name": "python3"
    },
    "language_info": {
      "codemirror_mode": {
        "name": "ipython",
        "version": 3
      },
      "file_extension": ".py",
      "mimetype": "text/x-python",
      "name": "python",
      "nbconvert_exporter": "python",
      "pygments_lexer": "ipython3",
      "version": "3.7.3"
    },
    "toc": {
      "base_numbering": 1,
      "nav_menu": {},
      "number_sections": false,
      "sideBar": false,
      "skip_h1_title": false,
      "title_cell": "Table of Contents",
      "title_sidebar": "Contents",
      "toc_cell": false,
      "toc_position": {},
      "toc_section_display": false,
      "toc_window_display": false
    }
  },
  "nbformat": 4,
  "nbformat_minor": 0
}
